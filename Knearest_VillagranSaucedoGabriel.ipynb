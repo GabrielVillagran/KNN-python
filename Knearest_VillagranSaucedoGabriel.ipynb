{
  "cells": [
    {
      "cell_type": "markdown",
      "metadata": {
        "id": "view-in-github",
        "colab_type": "text"
      },
      "source": [
        "<a href=\"https://colab.research.google.com/github/GabrielVillagran/KNN-python/blob/main/Knearest_VillagranSaucedoGabriel.ipynb\" target=\"_parent\"><img src=\"https://colab.research.google.com/assets/colab-badge.svg\" alt=\"Open In Colab\"/></a>"
      ]
    },
    {
      "cell_type": "markdown",
      "source": [
        "**Homework: PNN Classification**\n",
        "\n",
        "Villagran Saucedo Gabriel Aldair\n",
        "\n",
        "Undergraduate, 2017 generation, 267572, 201702370947\n",
        "\n",
        "Dr. Cuevas Tello Juan Carlos\n",
        "\n",
        "Aprendizaje Automatico (Machine Learning)\n",
        "\n",
        "04/04/2022\n",
        "\n",
        "**Introduction**\n",
        "\n",
        "I am going to use the KNN classifier that is implemented on scikitlearn library, in this notebookyou will find the KNN classifier using the wine dataset splitted into (20% 80%) and (50% 50%).\n",
        "\n",
        "At the end of the notebook I decided to calculate the best number of neighbors that the classifier can use and also I calculated the best percentage to split the data.\n",
        "So using the best number of neighbor and the best percentage for splitting that were calculated before we can get a better result using a KNN classifier.\n",
        "\n",
        "**Wine dataset**"
      ],
      "metadata": {
        "id": "rmNEEukML-6e"
      }
    },
    {
      "cell_type": "code",
      "source": [
        "#Wine\n",
        "import pandas as pd\n",
        "import numpy as np\n",
        "from sklearn import datasets\n",
        "from sklearn.model_selection import train_test_split\n",
        "from sklearn.neighbors import KNeighborsClassifier\n",
        "import matplotlib.pyplot as plt\n",
        "\n",
        "#Importing and printing the datasets\n",
        "wine = datasets.load_wine()\n",
        "#Giving the format as a dataframe with pandas\n",
        "df = pd.DataFrame(wine[\"data\"], columns = wine[\"feature_names\"])\n",
        "df[\"target\"] = wine[\"target\"]\n",
        "#df.head()\n",
        "X = df\n",
        "#removing the target on the column\n",
        "y= X.pop(\"target\")\n",
        "X.head()"
      ],
      "metadata": {
        "colab": {
          "base_uri": "https://localhost:8080/",
          "height": 206
        },
        "id": "fsuTiX1SVghy",
        "outputId": "88c26c6b-0418-4f75-87fb-343d2aee648d"
      },
      "execution_count": 1,
      "outputs": [
        {
          "output_type": "execute_result",
          "data": {
            "text/plain": [
              "   alcohol  malic_acid   ash  alcalinity_of_ash  magnesium  total_phenols  \\\n",
              "0    14.23        1.71  2.43               15.6      127.0           2.80   \n",
              "1    13.20        1.78  2.14               11.2      100.0           2.65   \n",
              "2    13.16        2.36  2.67               18.6      101.0           2.80   \n",
              "3    14.37        1.95  2.50               16.8      113.0           3.85   \n",
              "4    13.24        2.59  2.87               21.0      118.0           2.80   \n",
              "\n",
              "   flavanoids  nonflavanoid_phenols  proanthocyanins  color_intensity   hue  \\\n",
              "0        3.06                  0.28             2.29             5.64  1.04   \n",
              "1        2.76                  0.26             1.28             4.38  1.05   \n",
              "2        3.24                  0.30             2.81             5.68  1.03   \n",
              "3        3.49                  0.24             2.18             7.80  0.86   \n",
              "4        2.69                  0.39             1.82             4.32  1.04   \n",
              "\n",
              "   od280/od315_of_diluted_wines  proline  \n",
              "0                          3.92   1065.0  \n",
              "1                          3.40   1050.0  \n",
              "2                          3.17   1185.0  \n",
              "3                          3.45   1480.0  \n",
              "4                          2.93    735.0  "
            ],
            "text/html": [
              "\n",
              "  <div id=\"df-50460b85-cab9-461e-8978-02eaccf3ea53\">\n",
              "    <div class=\"colab-df-container\">\n",
              "      <div>\n",
              "<style scoped>\n",
              "    .dataframe tbody tr th:only-of-type {\n",
              "        vertical-align: middle;\n",
              "    }\n",
              "\n",
              "    .dataframe tbody tr th {\n",
              "        vertical-align: top;\n",
              "    }\n",
              "\n",
              "    .dataframe thead th {\n",
              "        text-align: right;\n",
              "    }\n",
              "</style>\n",
              "<table border=\"1\" class=\"dataframe\">\n",
              "  <thead>\n",
              "    <tr style=\"text-align: right;\">\n",
              "      <th></th>\n",
              "      <th>alcohol</th>\n",
              "      <th>malic_acid</th>\n",
              "      <th>ash</th>\n",
              "      <th>alcalinity_of_ash</th>\n",
              "      <th>magnesium</th>\n",
              "      <th>total_phenols</th>\n",
              "      <th>flavanoids</th>\n",
              "      <th>nonflavanoid_phenols</th>\n",
              "      <th>proanthocyanins</th>\n",
              "      <th>color_intensity</th>\n",
              "      <th>hue</th>\n",
              "      <th>od280/od315_of_diluted_wines</th>\n",
              "      <th>proline</th>\n",
              "    </tr>\n",
              "  </thead>\n",
              "  <tbody>\n",
              "    <tr>\n",
              "      <th>0</th>\n",
              "      <td>14.23</td>\n",
              "      <td>1.71</td>\n",
              "      <td>2.43</td>\n",
              "      <td>15.6</td>\n",
              "      <td>127.0</td>\n",
              "      <td>2.80</td>\n",
              "      <td>3.06</td>\n",
              "      <td>0.28</td>\n",
              "      <td>2.29</td>\n",
              "      <td>5.64</td>\n",
              "      <td>1.04</td>\n",
              "      <td>3.92</td>\n",
              "      <td>1065.0</td>\n",
              "    </tr>\n",
              "    <tr>\n",
              "      <th>1</th>\n",
              "      <td>13.20</td>\n",
              "      <td>1.78</td>\n",
              "      <td>2.14</td>\n",
              "      <td>11.2</td>\n",
              "      <td>100.0</td>\n",
              "      <td>2.65</td>\n",
              "      <td>2.76</td>\n",
              "      <td>0.26</td>\n",
              "      <td>1.28</td>\n",
              "      <td>4.38</td>\n",
              "      <td>1.05</td>\n",
              "      <td>3.40</td>\n",
              "      <td>1050.0</td>\n",
              "    </tr>\n",
              "    <tr>\n",
              "      <th>2</th>\n",
              "      <td>13.16</td>\n",
              "      <td>2.36</td>\n",
              "      <td>2.67</td>\n",
              "      <td>18.6</td>\n",
              "      <td>101.0</td>\n",
              "      <td>2.80</td>\n",
              "      <td>3.24</td>\n",
              "      <td>0.30</td>\n",
              "      <td>2.81</td>\n",
              "      <td>5.68</td>\n",
              "      <td>1.03</td>\n",
              "      <td>3.17</td>\n",
              "      <td>1185.0</td>\n",
              "    </tr>\n",
              "    <tr>\n",
              "      <th>3</th>\n",
              "      <td>14.37</td>\n",
              "      <td>1.95</td>\n",
              "      <td>2.50</td>\n",
              "      <td>16.8</td>\n",
              "      <td>113.0</td>\n",
              "      <td>3.85</td>\n",
              "      <td>3.49</td>\n",
              "      <td>0.24</td>\n",
              "      <td>2.18</td>\n",
              "      <td>7.80</td>\n",
              "      <td>0.86</td>\n",
              "      <td>3.45</td>\n",
              "      <td>1480.0</td>\n",
              "    </tr>\n",
              "    <tr>\n",
              "      <th>4</th>\n",
              "      <td>13.24</td>\n",
              "      <td>2.59</td>\n",
              "      <td>2.87</td>\n",
              "      <td>21.0</td>\n",
              "      <td>118.0</td>\n",
              "      <td>2.80</td>\n",
              "      <td>2.69</td>\n",
              "      <td>0.39</td>\n",
              "      <td>1.82</td>\n",
              "      <td>4.32</td>\n",
              "      <td>1.04</td>\n",
              "      <td>2.93</td>\n",
              "      <td>735.0</td>\n",
              "    </tr>\n",
              "  </tbody>\n",
              "</table>\n",
              "</div>\n",
              "      <button class=\"colab-df-convert\" onclick=\"convertToInteractive('df-50460b85-cab9-461e-8978-02eaccf3ea53')\"\n",
              "              title=\"Convert this dataframe to an interactive table.\"\n",
              "              style=\"display:none;\">\n",
              "        \n",
              "  <svg xmlns=\"http://www.w3.org/2000/svg\" height=\"24px\"viewBox=\"0 0 24 24\"\n",
              "       width=\"24px\">\n",
              "    <path d=\"M0 0h24v24H0V0z\" fill=\"none\"/>\n",
              "    <path d=\"M18.56 5.44l.94 2.06.94-2.06 2.06-.94-2.06-.94-.94-2.06-.94 2.06-2.06.94zm-11 1L8.5 8.5l.94-2.06 2.06-.94-2.06-.94L8.5 2.5l-.94 2.06-2.06.94zm10 10l.94 2.06.94-2.06 2.06-.94-2.06-.94-.94-2.06-.94 2.06-2.06.94z\"/><path d=\"M17.41 7.96l-1.37-1.37c-.4-.4-.92-.59-1.43-.59-.52 0-1.04.2-1.43.59L10.3 9.45l-7.72 7.72c-.78.78-.78 2.05 0 2.83L4 21.41c.39.39.9.59 1.41.59.51 0 1.02-.2 1.41-.59l7.78-7.78 2.81-2.81c.8-.78.8-2.07 0-2.86zM5.41 20L4 18.59l7.72-7.72 1.47 1.35L5.41 20z\"/>\n",
              "  </svg>\n",
              "      </button>\n",
              "      \n",
              "  <style>\n",
              "    .colab-df-container {\n",
              "      display:flex;\n",
              "      flex-wrap:wrap;\n",
              "      gap: 12px;\n",
              "    }\n",
              "\n",
              "    .colab-df-convert {\n",
              "      background-color: #E8F0FE;\n",
              "      border: none;\n",
              "      border-radius: 50%;\n",
              "      cursor: pointer;\n",
              "      display: none;\n",
              "      fill: #1967D2;\n",
              "      height: 32px;\n",
              "      padding: 0 0 0 0;\n",
              "      width: 32px;\n",
              "    }\n",
              "\n",
              "    .colab-df-convert:hover {\n",
              "      background-color: #E2EBFA;\n",
              "      box-shadow: 0px 1px 2px rgba(60, 64, 67, 0.3), 0px 1px 3px 1px rgba(60, 64, 67, 0.15);\n",
              "      fill: #174EA6;\n",
              "    }\n",
              "\n",
              "    [theme=dark] .colab-df-convert {\n",
              "      background-color: #3B4455;\n",
              "      fill: #D2E3FC;\n",
              "    }\n",
              "\n",
              "    [theme=dark] .colab-df-convert:hover {\n",
              "      background-color: #434B5C;\n",
              "      box-shadow: 0px 1px 3px 1px rgba(0, 0, 0, 0.15);\n",
              "      filter: drop-shadow(0px 1px 2px rgba(0, 0, 0, 0.3));\n",
              "      fill: #FFFFFF;\n",
              "    }\n",
              "  </style>\n",
              "\n",
              "      <script>\n",
              "        const buttonEl =\n",
              "          document.querySelector('#df-50460b85-cab9-461e-8978-02eaccf3ea53 button.colab-df-convert');\n",
              "        buttonEl.style.display =\n",
              "          google.colab.kernel.accessAllowed ? 'block' : 'none';\n",
              "\n",
              "        async function convertToInteractive(key) {\n",
              "          const element = document.querySelector('#df-50460b85-cab9-461e-8978-02eaccf3ea53');\n",
              "          const dataTable =\n",
              "            await google.colab.kernel.invokeFunction('convertToInteractive',\n",
              "                                                     [key], {});\n",
              "          if (!dataTable) return;\n",
              "\n",
              "          const docLinkHtml = 'Like what you see? Visit the ' +\n",
              "            '<a target=\"_blank\" href=https://colab.research.google.com/notebooks/data_table.ipynb>data table notebook</a>'\n",
              "            + ' to learn more about interactive tables.';\n",
              "          element.innerHTML = '';\n",
              "          dataTable['output_type'] = 'display_data';\n",
              "          await google.colab.output.renderOutput(dataTable, element);\n",
              "          const docLink = document.createElement('div');\n",
              "          docLink.innerHTML = docLinkHtml;\n",
              "          element.appendChild(docLink);\n",
              "        }\n",
              "      </script>\n",
              "    </div>\n",
              "  </div>\n",
              "  "
            ]
          },
          "metadata": {},
          "execution_count": 1
        }
      ]
    },
    {
      "cell_type": "code",
      "source": [
        "#printing the shape of the dataset\n",
        "X.shape"
      ],
      "metadata": {
        "colab": {
          "base_uri": "https://localhost:8080/"
        },
        "id": "Ub19--IqVesT",
        "outputId": "0471a786-4174-42fa-b91c-1d1d20fc78a8"
      },
      "execution_count": 2,
      "outputs": [
        {
          "output_type": "execute_result",
          "data": {
            "text/plain": [
              "(178, 13)"
            ]
          },
          "metadata": {},
          "execution_count": 2
        }
      ]
    },
    {
      "cell_type": "markdown",
      "source": [
        "**Splitting the data into 20% and calculating the accuracy using the KNN classifier**"
      ],
      "metadata": {
        "id": "IKdDRbrskDzW"
      }
    },
    {
      "cell_type": "code",
      "source": [
        "#splitting the data into 80 training and 20 testing\n",
        "X_train, X_test, y_train, y_test = train_test_split(X,y, test_size = 0.2, random_state=55)\n",
        "print(\"Rows that will be used for training:\", X_train.shape)\n",
        "print(\"Rows that will be used for testing:\",X_test.shape)\n"
      ],
      "metadata": {
        "colab": {
          "base_uri": "https://localhost:8080/"
        },
        "id": "nbc2DH2gW4BR",
        "outputId": "8b5ddb66-b71d-453b-d2c3-0506b868619e"
      },
      "execution_count": 3,
      "outputs": [
        {
          "output_type": "stream",
          "name": "stdout",
          "text": [
            "Rows that will be used for training: (142, 13)\n",
            "Rows that will be used for testing: (36, 13)\n"
          ]
        }
      ]
    },
    {
      "cell_type": "code",
      "source": [
        "#Trining the classifier\n",
        "#Creating the classifiers (KNN)\n",
        "knn = KNeighborsClassifier(n_neighbors=3)\n",
        "knn.fit(X_train, y_train)\n",
        "#Here I will check the accuracy of the model\n",
        "knn.score(X_test, y_test)"
      ],
      "metadata": {
        "colab": {
          "base_uri": "https://localhost:8080/"
        },
        "id": "L-EUukDiaWwA",
        "outputId": "a4adcd39-d1a5-45b2-97d8-b37229f50e8a"
      },
      "execution_count": 8,
      "outputs": [
        {
          "output_type": "execute_result",
          "data": {
            "text/plain": [
              "0.8333333333333334"
            ]
          },
          "metadata": {},
          "execution_count": 8
        }
      ]
    },
    {
      "cell_type": "markdown",
      "source": [
        "**Splitting the data into 80% and calculating the accuracy using the KNN classifier**"
      ],
      "metadata": {
        "id": "3DKehYQwkPdO"
      }
    },
    {
      "cell_type": "code",
      "source": [
        "#splitting the data into 80 training and 20 testing\n",
        "X_train, X_test, y_train, y_test = train_test_split(X,y, test_size = 0.8, random_state=55)\n",
        "print(\"Rows that will be used for training:\", X_train.shape)\n",
        "print(\"Rows that will be used for testing:\",X_test.shape)"
      ],
      "metadata": {
        "colab": {
          "base_uri": "https://localhost:8080/"
        },
        "id": "x_GPIA5lkNgr",
        "outputId": "2f617db5-e573-4489-cd35-38b2502588eb"
      },
      "execution_count": 14,
      "outputs": [
        {
          "output_type": "stream",
          "name": "stdout",
          "text": [
            "Rows that will be used for training: (35, 13)\n",
            "Rows that will be used for testing: (143, 13)\n"
          ]
        }
      ]
    },
    {
      "cell_type": "code",
      "source": [
        "#Trining the classifier\n",
        "#Creating the classifiers (KNN)\n",
        "knn = KNeighborsClassifier(n_neighbors=3)\n",
        "knn.fit(X_train, y_train)\n",
        "#Here I will check the accuracy of the model\n",
        "knn.score(X_test, y_test)"
      ],
      "metadata": {
        "colab": {
          "base_uri": "https://localhost:8080/"
        },
        "id": "Hkll8D8fkToV",
        "outputId": "7b137ceb-5863-494c-b9db-f7ee43f47f41"
      },
      "execution_count": 15,
      "outputs": [
        {
          "output_type": "execute_result",
          "data": {
            "text/plain": [
              "0.6643356643356644"
            ]
          },
          "metadata": {},
          "execution_count": 15
        }
      ]
    },
    {
      "cell_type": "markdown",
      "source": [
        "**Tunning the model sensivity of n_neighbors to get the best accuracy**"
      ],
      "metadata": {
        "id": "svZIW-_ebc2A"
      }
    },
    {
      "cell_type": "code",
      "source": [
        "k_range = range (1,25)\n",
        "scores = []\n",
        "for k in k_range:\n",
        "  knn = KNeighborsClassifier(n_neighbors=k)\n",
        "  knn.fit(X_train, y_train)\n",
        "  scores.append(knn.score(X_test, y_test))\n",
        "\n",
        "\n",
        "plt.figure()\n",
        "plt.xlabel(\"K count\")\n",
        "plt.ylabel(\"model accuracy\")\n",
        "plt.scatter(k_range, scores)\n",
        "plt.grid()\n",
        "plt.xticks([0,1,2,3,4,5,6,7,8,9,10,15,20,25,30,35,40])\n",
        "plt.show()"
      ],
      "metadata": {
        "colab": {
          "base_uri": "https://localhost:8080/",
          "height": 279
        },
        "id": "6xmduJE0eQ7f",
        "outputId": "1d011fa5-50e9-4ed6-bad1-6850c1d9dbd5"
      },
      "execution_count": 7,
      "outputs": [
        {
          "output_type": "display_data",
          "data": {
            "text/plain": [
              "<Figure size 432x288 with 1 Axes>"
            ],
            "image/png": "[encoded data removed]"
          },
          "metadata": {
            "needs_background": "light"
          }
        }
      ]
    },
    {
      "cell_type": "code",
      "source": [
        "#Claculating the best test percentage for the classifier\n",
        "test_sizes=[0.8, 0.7, 0.6, 0.5, 0.4, 0.3, 0.2, 0.1]\n",
        "knn = KNeighborsClassifier(n_neighbors=5)\n",
        "\n",
        "plt.figure()\n",
        "\n",
        "for test_size in test_sizes:\n",
        "  scores=[]\n",
        "\n",
        "  for i in range(1,1000):\n",
        "    X_train, X_test, y_train, y_test = train_test_split(X,y, test_size = 1 - test_size)\n",
        "    knn.fit(X_train, y_train)\n",
        "    scores.append(knn.score(X_test, y_test))\n",
        "  plt.plot(test_size, np.mean(scores), \"bo\")\n",
        "\n",
        "plt.xlabel(\"training splits %\")\n",
        "plt.ylabel(\"accuracy\")\n",
        "plt.show()"
      ],
      "metadata": {
        "colab": {
          "base_uri": "https://localhost:8080/",
          "height": 279
        },
        "id": "Mi3ePRjQe6C4",
        "outputId": "daed6d39-d85a-4b79-af02-16df07afd8f0"
      },
      "execution_count": 13,
      "outputs": [
        {
          "output_type": "display_data",
          "data": {
            "text/plain": [
              "<Figure size 432x288 with 1 Axes>"
            ],
            "image/png": "[encoded data removed]"
          },
          "metadata": {
            "needs_background": "light"
          }
        }
      ]
    },
    {
      "cell_type": "markdown",
      "source": [
        "**Iris Dataset**"
      ],
      "metadata": {
        "id": "yZHVCQQgnzAX"
      }
    },
    {
      "cell_type": "code",
      "source": [
        "#Importing and printing the datasets\n",
        "iris = datasets.load_iris()\n",
        "#Giving the format as a dataframe with pandas\n",
        "df = pd.DataFrame(iris[\"data\"], columns = iris[\"feature_names\"])\n",
        "df[\"target\"] = iris[\"target\"]\n",
        "#df.head()\n",
        "X = df\n",
        "#removing the target on the column\n",
        "y= X.pop(\"target\")\n",
        "X.head()"
      ],
      "metadata": {
        "colab": {
          "base_uri": "https://localhost:8080/",
          "height": 206
        },
        "id": "JAET93d7nyYE",
        "outputId": "aad8cd19-702c-4036-be28-26b3cc6b1b18"
      },
      "execution_count": 19,
      "outputs": [
        {
          "output_type": "execute_result",
          "data": {
            "text/plain": [
              "   sepal length (cm)  sepal width (cm)  petal length (cm)  petal width (cm)\n",
              "0                5.1               3.5                1.4               0.2\n",
              "1                4.9               3.0                1.4               0.2\n",
              "2                4.7               3.2                1.3               0.2\n",
              "3                4.6               3.1                1.5               0.2\n",
              "4                5.0               3.6                1.4               0.2"
            ],
            "text/html": [
              "\n",
              "  <div id=\"df-2b17f4ba-740c-47e9-aa4c-818bb1e7d599\">\n",
              "    <div class=\"colab-df-container\">\n",
              "      <div>\n",
              "<style scoped>\n",
              "    .dataframe tbody tr th:only-of-type {\n",
              "        vertical-align: middle;\n",
              "    }\n",
              "\n",
              "    .dataframe tbody tr th {\n",
              "        vertical-align: top;\n",
              "    }\n",
              "\n",
              "    .dataframe thead th {\n",
              "        text-align: right;\n",
              "    }\n",
              "</style>\n",
              "<table border=\"1\" class=\"dataframe\">\n",
              "  <thead>\n",
              "    <tr style=\"text-align: right;\">\n",
              "      <th></th>\n",
              "      <th>sepal length (cm)</th>\n",
              "      <th>sepal width (cm)</th>\n",
              "      <th>petal length (cm)</th>\n",
              "      <th>petal width (cm)</th>\n",
              "    </tr>\n",
              "  </thead>\n",
              "  <tbody>\n",
              "    <tr>\n",
              "      <th>0</th>\n",
              "      <td>5.1</td>\n",
              "      <td>3.5</td>\n",
              "      <td>1.4</td>\n",
              "      <td>0.2</td>\n",
              "    </tr>\n",
              "    <tr>\n",
              "      <th>1</th>\n",
              "      <td>4.9</td>\n",
              "      <td>3.0</td>\n",
              "      <td>1.4</td>\n",
              "      <td>0.2</td>\n",
              "    </tr>\n",
              "    <tr>\n",
              "      <th>2</th>\n",
              "      <td>4.7</td>\n",
              "      <td>3.2</td>\n",
              "      <td>1.3</td>\n",
              "      <td>0.2</td>\n",
              "    </tr>\n",
              "    <tr>\n",
              "      <th>3</th>\n",
              "      <td>4.6</td>\n",
              "      <td>3.1</td>\n",
              "      <td>1.5</td>\n",
              "      <td>0.2</td>\n",
              "    </tr>\n",
              "    <tr>\n",
              "      <th>4</th>\n",
              "      <td>5.0</td>\n",
              "      <td>3.6</td>\n",
              "      <td>1.4</td>\n",
              "      <td>0.2</td>\n",
              "    </tr>\n",
              "  </tbody>\n",
              "</table>\n",
              "</div>\n",
              "      <button class=\"colab-df-convert\" onclick=\"convertToInteractive('df-2b17f4ba-740c-47e9-aa4c-818bb1e7d599')\"\n",
              "              title=\"Convert this dataframe to an interactive table.\"\n",
              "              style=\"display:none;\">\n",
              "        \n",
              "  <svg xmlns=\"http://www.w3.org/2000/svg\" height=\"24px\"viewBox=\"0 0 24 24\"\n",
              "       width=\"24px\">\n",
              "    <path d=\"M0 0h24v24H0V0z\" fill=\"none\"/>\n",
              "    <path d=\"M18.56 5.44l.94 2.06.94-2.06 2.06-.94-2.06-.94-.94-2.06-.94 2.06-2.06.94zm-11 1L8.5 8.5l.94-2.06 2.06-.94-2.06-.94L8.5 2.5l-.94 2.06-2.06.94zm10 10l.94 2.06.94-2.06 2.06-.94-2.06-.94-.94-2.06-.94 2.06-2.06.94z\"/><path d=\"M17.41 7.96l-1.37-1.37c-.4-.4-.92-.59-1.43-.59-.52 0-1.04.2-1.43.59L10.3 9.45l-7.72 7.72c-.78.78-.78 2.05 0 2.83L4 21.41c.39.39.9.59 1.41.59.51 0 1.02-.2 1.41-.59l7.78-7.78 2.81-2.81c.8-.78.8-2.07 0-2.86zM5.41 20L4 18.59l7.72-7.72 1.47 1.35L5.41 20z\"/>\n",
              "  </svg>\n",
              "      </button>\n",
              "      \n",
              "  <style>\n",
              "    .colab-df-container {\n",
              "      display:flex;\n",
              "      flex-wrap:wrap;\n",
              "      gap: 12px;\n",
              "    }\n",
              "\n",
              "    .colab-df-convert {\n",
              "      background-color: #E8F0FE;\n",
              "      border: none;\n",
              "      border-radius: 50%;\n",
              "      cursor: pointer;\n",
              "      display: none;\n",
              "      fill: #1967D2;\n",
              "      height: 32px;\n",
              "      padding: 0 0 0 0;\n",
              "      width: 32px;\n",
              "    }\n",
              "\n",
              "    .colab-df-convert:hover {\n",
              "      background-color: #E2EBFA;\n",
              "      box-shadow: 0px 1px 2px rgba(60, 64, 67, 0.3), 0px 1px 3px 1px rgba(60, 64, 67, 0.15);\n",
              "      fill: #174EA6;\n",
              "    }\n",
              "\n",
              "    [theme=dark] .colab-df-convert {\n",
              "      background-color: #3B4455;\n",
              "      fill: #D2E3FC;\n",
              "    }\n",
              "\n",
              "    [theme=dark] .colab-df-convert:hover {\n",
              "      background-color: #434B5C;\n",
              "      box-shadow: 0px 1px 3px 1px rgba(0, 0, 0, 0.15);\n",
              "      filter: drop-shadow(0px 1px 2px rgba(0, 0, 0, 0.3));\n",
              "      fill: #FFFFFF;\n",
              "    }\n",
              "  </style>\n",
              "\n",
              "      <script>\n",
              "        const buttonEl =\n",
              "          document.querySelector('#df-2b17f4ba-740c-47e9-aa4c-818bb1e7d599 button.colab-df-convert');\n",
              "        buttonEl.style.display =\n",
              "          google.colab.kernel.accessAllowed ? 'block' : 'none';\n",
              "\n",
              "        async function convertToInteractive(key) {\n",
              "          const element = document.querySelector('#df-2b17f4ba-740c-47e9-aa4c-818bb1e7d599');\n",
              "          const dataTable =\n",
              "            await google.colab.kernel.invokeFunction('convertToInteractive',\n",
              "                                                     [key], {});\n",
              "          if (!dataTable) return;\n",
              "\n",
              "          const docLinkHtml = 'Like what you see? Visit the ' +\n",
              "            '<a target=\"_blank\" href=https://colab.research.google.com/notebooks/data_table.ipynb>data table notebook</a>'\n",
              "            + ' to learn more about interactive tables.';\n",
              "          element.innerHTML = '';\n",
              "          dataTable['output_type'] = 'display_data';\n",
              "          await google.colab.output.renderOutput(dataTable, element);\n",
              "          const docLink = document.createElement('div');\n",
              "          docLink.innerHTML = docLinkHtml;\n",
              "          element.appendChild(docLink);\n",
              "        }\n",
              "      </script>\n",
              "    </div>\n",
              "  </div>\n",
              "  "
            ]
          },
          "metadata": {},
          "execution_count": 19
        }
      ]
    },
    {
      "cell_type": "code",
      "source": [
        "#printing the shape of the dataset\n",
        "X.shape"
      ],
      "metadata": {
        "colab": {
          "base_uri": "https://localhost:8080/"
        },
        "id": "6ODor72Dodzk",
        "outputId": "c0da0eb2-b62e-4d11-d331-ce41af2ad915"
      },
      "execution_count": 20,
      "outputs": [
        {
          "output_type": "execute_result",
          "data": {
            "text/plain": [
              "(150, 4)"
            ]
          },
          "metadata": {},
          "execution_count": 20
        }
      ]
    },
    {
      "cell_type": "markdown",
      "source": [
        "**Splitting the data into 20% and calculating the accuracy using the KNN classifier**"
      ],
      "metadata": {
        "id": "Q7vWG2gMojSB"
      }
    },
    {
      "cell_type": "code",
      "source": [
        "#splitting the data into 80 training and 20 testing\n",
        "X_train, X_test, y_train, y_test = train_test_split(X,y, test_size = 0.2, random_state=55)\n",
        "print(\"Rows that will be used for training:\", X_train.shape)\n",
        "print(\"Rows that will be used for testing:\",X_test.shape)"
      ],
      "metadata": {
        "colab": {
          "base_uri": "https://localhost:8080/"
        },
        "id": "LXbUdkzNoeez",
        "outputId": "e0f0ce0b-4ec4-4ca4-c4a9-54c860262067"
      },
      "execution_count": 21,
      "outputs": [
        {
          "output_type": "stream",
          "name": "stdout",
          "text": [
            "Rows that will be used for training: (120, 4)\n",
            "Rows that will be used for testing: (30, 4)\n"
          ]
        }
      ]
    },
    {
      "cell_type": "code",
      "source": [
        "#Training the classifier\n",
        "#Creating the classifiers (KNN)\n",
        "knn = KNeighborsClassifier(n_neighbors=3)\n",
        "knn.fit(X_train, y_train)\n",
        "#Here I will check the accuracy of the model\n",
        "knn.score(X_test, y_test)"
      ],
      "metadata": {
        "colab": {
          "base_uri": "https://localhost:8080/"
        },
        "id": "9VHLNrJVop90",
        "outputId": "550ddc4c-08d0-46c7-e3cf-b3d2e5d89d76"
      },
      "execution_count": 23,
      "outputs": [
        {
          "output_type": "execute_result",
          "data": {
            "text/plain": [
              "0.9666666666666667"
            ]
          },
          "metadata": {},
          "execution_count": 23
        }
      ]
    },
    {
      "cell_type": "markdown",
      "source": [
        "**Splitting the data into 50% and calculating the accuracy using the KNN classifier**"
      ],
      "metadata": {
        "id": "AVpNcqfUovu7"
      }
    },
    {
      "cell_type": "code",
      "source": [
        "#splitting the data into 80 training and 20 testing\n",
        "X_train, X_test, y_train, y_test = train_test_split(X,y, test_size = 0.5, random_state=55)\n",
        "print(\"Rows that will be used for training:\", X_train.shape)\n",
        "print(\"Rows that will be used for testing:\",X_test.shape)"
      ],
      "metadata": {
        "colab": {
          "base_uri": "https://localhost:8080/"
        },
        "id": "t4KZrxyLot2D",
        "outputId": "f8e9513e-ecfa-4a02-c22d-ab96763de6cb"
      },
      "execution_count": 24,
      "outputs": [
        {
          "output_type": "stream",
          "name": "stdout",
          "text": [
            "Rows that will be used for training: (75, 4)\n",
            "Rows that will be used for testing: (75, 4)\n"
          ]
        }
      ]
    },
    {
      "cell_type": "code",
      "source": [
        "#Training the classifier\n",
        "#Creating the classifiers (KNN)\n",
        "knn = KNeighborsClassifier(n_neighbors=3)\n",
        "knn.fit(X_train, y_train)\n",
        "#Here I will check the accuracy of the model\n",
        "knn.score(X_test, y_test)"
      ],
      "metadata": {
        "colab": {
          "base_uri": "https://localhost:8080/"
        },
        "id": "upO9Bcjto3ad",
        "outputId": "61c984f3-112d-4e17-89d6-b9f57b76e1ee"
      },
      "execution_count": 25,
      "outputs": [
        {
          "output_type": "execute_result",
          "data": {
            "text/plain": [
              "0.9866666666666667"
            ]
          },
          "metadata": {},
          "execution_count": 25
        }
      ]
    },
    {
      "cell_type": "markdown",
      "source": [
        "**Conclusion**\n",
        "\n",
        "There are many classifiers that can be used but if we have to choose the best ones, that will depend on the data that were going to use and what we have to calculate, for instance, we have different accuracy percent if we use a SVM Linear against a KNN.\n",
        "\n",
        "Lokking at the table below and comparing all the classifiers that I used, the best accuracy percentage was the SVM RBF (this was calculated using weka) \\\n",
        "\n",
        "![image.png](data:image/png;base64,iVBORw0KGgoAAAANSUhEUgAAAwIAAAE4CAYAAADowkRaAAAAAXNSR0IArs4c6QAAAARnQU1BAACxjwv8YQUAAAAJcEhZcwAADsMAAA7DAcdvqGQAAFkESURBVHhe7d1NbFvretj7R3ecWYCEOpXQEGcPMnHQCqc4ooANu0yMFB2cdpNXBkxeoPB2LhDEg6CGkVtAtAYyBbSB4KIDBwFudIwCJQ1YV3SaQdGDnaM4MCD6oIFaxJMMHDCF1EgnQGad875fi3zXF7lISzYX1/8HrL21uJZJiuvhu97n/dLK27dvh7dv3xbgSzm/uJD1tTW3B0xHzGAREIfIM+IXmkkE7ty543YBAAAAFIFJBH7wC7/gdoHP7xd+8AP533/xF24PmI6YwSIgDpFnxC+0/8P9HwAAAECBkAgAAAAABUQiAAAAABQQiQAAAABQQEuWCPyl/P4PfmAmwARb4yd/744F7Dm//8Ht3ri/l9f/Jvo+vPf5b/4/+X9jx7HQ/u6/SiO4fpFt/uuoYuLf/Ff5udv7nH72R78nr//O7cD42R8lX19/+6Tv7Icfq+f4sfzM7U73ucutfPv5T36PzyrBjcf1yLTyzN4Xk15fb3m7dssZb+NrxHdJMWV2PFbN9oXu3fMLfz+XJhHQX8Rf+MG3Ii//wsyCt9uP5R/t/OYXvki/KPf+7V9I9zd/0e3rwvhb2fuNtvy1fo//9v+U/ztyHPmwG4o1L97+6C/dGdmZmHA/f1aqcPv1P3Q/Y+SHv+Vf15/Ij39DPfjbP/Ye+8Tv7K1v1XN8Kz90u9P9mvyees3fu+V2kU4l6v9658TtwHfjce1kLs8ir222l78jew9yVPlc1nj7u/8mf/ynvyO7vy2y18lbRfemVOXH/yUSr/p7JC35fo6Sgej3czkSAfdF1BWz8I1S3Tz/S1t+9Kct+de0uOPGuXj7w29pQQGAeagk+ae68vmz2RtUcH1+9ict+ZPf+J78qx/+jsifnsif02uc4hfl3mNdz8zvZ7QUiYAN2Lb8q6TWsl/6J/K7L38yuZUj1uUTGSoRGwoS6dKfeNwfGmR/Ni2wKjn5vjr39z8kDR3SGZv/fJH3o9+vyj5fB+fkrltqif3SP5PfTWhBiXXJj65ZNCa8az0tLhO612MJSDQ2vd4K04v24A/UTyfy7T+/riEBxWI+wz9S38XgOgSfb6xMiFwbc22DciIoA/4yfD1D3+vI0KDg30diJHb9Q8dV/PxE70fjyGPetzr+Ifz+44mtfT+j546WQfp1U8qo6Hch+twTy77R5xB5/eBz16/7z9X9QP2oW5Xn6Z1D0MM+/nxj1z/1njehPJvVx7+Nxf/o9T5XvJnvz4Tv2dLG21/Kn6tr+KN/+k/kl2/9QHbVPeKP/3vy/WG2z9c/HinTDHdP87/PGa9rLCaUtNc2j8fOt+9n/vvgifyN94STv0P6tVSsmfJYH/fiLvrdir7PCff06feS5O/nEiQCfy//86MLWPdI2C/KD29NSQIe/FWou+env60rRq5g0x+6+qL/I28YyE9/+w/k14MPdtrxEDtMSLd2iBsalNTVr4P01//wd+Sn7vn+98tfNRW1UCCpi/ituG7Vf/vPUn53fAm/sl5V1+dv5W/cvrmeH91QMLP9WHb1l9B8gaMx8fty75fUz9Pi0nyhf1O+/crrWjdd6pECRcWm7P/EnfMT+fHHb0eFwi//5u+bfxN0dzI8bU5/2JI//qfuM/6tX0ssE/56vxq+Ngn+ZOdb+Zum+zeZejJVOdP53iiuTCvqgyA+lGgM6XJkRyd+06g4e3Ai/3L076JDNfRN7FvZ84Z1/PQrfVPxXluLlVHuJuR/F9Tv+T+8585U9il7D/6T/Ir3/iTohdNDrvRnp340Q/f09cBMdAXm+zsyjht3jUYVpIn3vJTybCb2ni5ffc/d1750vE34ni1rvH34C9lT94V/+Y/1PeHX5Lb6nf/kz/5bpE4z7fOd/vlnklDXmXxP1Sa/9g+TejlCv/OMfv63Khmsyq+4itjU75Chyll1jo09774f/W7pWI/UN9Pu6YH0e0ny93MJEoH/JX/zp+7HOfzsZ+rG+Nv/V6iwMkEifyX/UwdJ5AJrZpxlUPmednxW6kL/B5Wt7b70xg8HXaWhVmZVefsRN7lF9Mvf+1X3k2ZbVnabfjzYgjXc4hU2NS5d3P9o/R/oHcuMOx/feIOesn8/quAHXZgt+Y+zFMSY4nfkd70k6uf//STWQ/nL/7iqKgvhFqMYVdEZNQy4nqX4zdenyoDH47j64Y90heQP5M+Dm3DnD+RH+//POIZcOZJF0r8Lyp+f/+Q/qRumqjx5lZ4f/pa6EavX/g+hG12kjDJjjsPvWf+eXXWzMr935rIv+v7+hRnrzlCS6/CX8h93TsKfr7pG/14lsn+y859t5fe673kRP//Jv5NvVdm2+0MbO18+3iZ9z5aTuf/8RlVuuxiwFefIfWPq5zvleGaR65rlnjrttRN6OaK/c3YqUdU966N/m+E75Pxo/1+E5onZ+753H1D871bme/qM95IlSAQ+jfmQXQGjs0zTjWKGSzguYHQrQWKX0bTjMzKVCFXo3Y58UewXcdzKLPKr8g9nDlh8fv4kT9v1qGNs2gTdqXEZtNKkTob3unbdI8Yv/RP5l6rS9D/+9tNjFc5vfE9+xf2omZ4WV3CPuof/uR0+MEkoqctkQhlgboQi/+h74dYtm0xOE28VG5c/fy9//mcn6kbzg8hEZxeP5//L7Wvh92fLtvT3nL3si/9euCYpraI2kXWNENd5z/vDb+33w9uCllRbZi5CvE34ni2jIEHyK9oJyXa2z/c6Prvoc0y/p05/bRc/o8pxyv0yxsZ9OGZdb1WQCGf5Djnhcsy9h9T7QPZ7+qz3kiVIBP6B/Ipe+WBeuitmFEgqg9RdObqreUQHnV1dwVS63Lnjrq1px+fxB/Lr7nlGW6gSiEX287/9K/eTNarI6wLDdMe5rrlJpsalTRb0kBPdUqPnm5jzI2NU/Zi022+a1jbcIN196z7v77tFDEz3rDu8FBIqcNOSWyOSNMVR9n15CZWdUCJ7jfc8b7jPeEsYTkS8fTa2Eq0q/Q/8z8XdN/7wL8LDsaZ9vlM///lkuqdOeW3TsxMMD0qpvMe5e3E0ZmNDwqZ9h9JNa+S4iXv6EiQCvyj/8Cv14Uzo9jBBk9hqarvPx4VR2nhGO67KnmMLwPB432nHZ+WNWQxtsyw3iC/lb869FqxR97O7hpm6z7PGpWt9dvFhkgJ1w/Rb6X40GksY3pgPcHOC7ttgbKrfzZtX0eQ2uQKnttgNMSLSsh9H2fflpVR2QuXQdd/zpiDePpOgBybh8zaNGZEhUdM+36mf/xyy3lOnvbZpSbfDg+YfFpQmy3co2bTe+pu4py/F0CCb2aWMe3ZBk9zlY8dZB2MRAyYoUukCUI9PTBvvO+34ZHZ8ebj7SDNDDBKTGSyUoJAKYsqMp412P9suvnTzxKVNCnSriO0utz1l4a5zzXalflqPFdIlL14QtLJ9NilDwKbFkBVfIWSc3NqGl/j8Fjs5b9JQkbSyLUDZtwB++Xuqspdw7zI9lJHJuSOfds+bjHj7rNyQwui9x3BlSjB/Yt7PNypcRmWY85nhnprttX9Rbv/TqvzJn/1n+fOJC87MaK7vkJZ2zw7c3D19KRKBYCJG/I+QqA9Id8eEJlf47AcbmhikLpbtcnQX0ly8cEtHMHnJBOK047Myk5V0t5IXMKpyaf5OQmhyDBaPi7ff9ibqmEIhPKlt9Mc8UlssMsSl+/KHboShJETdnPUkokgPQfDH7BKX2sU1cD2U/qQw9/3VPt/cDHX9m7+j3se/G5dNoxiaPm43/u+qowl7ZqKmHo7mDUOzEzzDk6ZjzDhjVbY99ytZXhxT9n15o3upf09T1+iBnnjuJjZe9z1vCuLt8zG9manX0VacR6vtTP18pxwPKrbeaI5Mf4guyz116mtbZtz+n/6B7P3pnKsFJcnyHUpky+zRCmiOnWemY/Tm7unLkQgoZoiEW6JpPHbqW/kfuhsldTiGa8nwx1g/EPmpG89rbtqqsAiWFAue105mcl2H047PQY/9NsuxuecLlpNahiEGyyQ8hlJvLt787mpVKHRf6grZeFzfr8uP7TAer8Ui6NWyf1siQ1yacbruLxkH56g40cuKjeJEv7b6N+K/tl5Ozf8+BAWmjt/I/ALM54e/pYdK+N9fvRSnbjGd1NpzA6Jlk44hFYtZ7Kr4/OPRv9NLkPpd2jb2dr1x29/f+VX56dThFDqu3XJ47t8F35mgW/tayj4V9+ZveejvJz0JM9P30r/eF++eFr5GWe554fLMPTg34u3zcK3qsYnZY8HqZ7bHcNrnm+V4+D73H9Z/oq6HfqUJMt1Tp197w/VyXO+woAzfoTT6uxWpx4ZiPcs9PYPo93Pl7du3wx/8wi+4w8Dnp4NZj3EDsiJm5qNbl77/Z9X0G8ffjdeIp+FhOuIQeUb86l6CjJX0JbY0PQIAgIDtBg/38rj1ra9rLCwA5JlZLWjKELMCIBEAgKXza/J7eiiZN5wic/c0ACwz3fOpy0Qz7HH+YdzLgqFB+OLonsSsiBksAuIQeUb8QqNHAAAAACggEgEAAACggMzQoDt37rhdAAAAAEVgEoHbt2+7XeDzW1lZkeFw6PaA6YgZLALiEHlG/EJjaBAAAABQQCQCAAAAQAGRCAAAAAAFRCIAAAAAFFBiItB/tmImkcS3fem7c67V+/0ZnvtKuvdWpP7qyu3fBPsayZ/BeNt/707HtTLxd6+rrkKEiRN17Fk8Uq5e1dUxHUOfIz6wmOLf28TvaBBHk84BPoEtj4hD5BPxWyzpPQLbHbkcDs2M8mC77J7J1kpduhfunOuyuaOef0cqbneykjReD+X4fsnt3wT7GuPf/VTa6tFa99J7bCg7m/ZsXK/yVzWRo4EM3H6g/13L/rB7Ekkar+TkTU9kr6pi6HPEBxaPTgJWpSleudVvS6sSuUHpm1flTDrn/jk3UKahuFSMrTYkEmPEIXKC+C0evXxo1OmeDFUiMFQ31JhJx5bX6VAlAkOVCLh9XCcVhu4n57wzVKnAsN13+8blsLOtH7PXInyM61M0yTFTG6obU0i4vLIxJHunZi9gzok8BmQRi8NMMUYcYjEQv9BmniNQedCR2lFTDkPdQH3Z97qIEod1RM/xhwLp7NLfv+hKPe3cxKEfE55bC57f/H983qd3Zdn3sv9q/H5Hzxn9HRKGs2Q6p4jWqlLfFjkbeNf44kSOj2pSXitLOXrs/Ym0pCb1r3UvQDQ+bGzsv4/ESOyzzhLDWFhrDTkeHktjze07pndpZCCDI5H23XDfY+WuSiNjvUzATSEOkWfE77KZfbKwqohtqP+NK2K6ArUlrb1T20WkttNbTVmNVey35MwbWmOHGUUq7Jo+d70pG33X5aSfb68lW2kVM/fcodfX58eeWz32vDwaNqCyV2lVEl5/Dq3GsdRdF5kZLuR+Bxn9vpfS+bAVrlxmOaewSlK+JdJ7c+J9XgPpbdelulaS6je10LGrwZmIOeYeSNCqHEjZ68aU3S0vEcwQw8ghN2TsVllFlKJi6EwljOXEODmTAd3a+GQlaTzW5cvBeJjE+33Z2vUqTsQhFhbxW0RzrBpkW2QDV68OVBW7LadPx9lh5akeU9+SA9cqe/XuWFXiOvLCG7ddun+sKlwJ8wJ0hS8SZJWnqnL2umFv5hH9l03z3JcTXt+qSef5+DlMz4Y65+STewWUvSehlsjgPY1/X/Xleh7uSclyTpGZ1gVvnoCZH+AqdKWySkW9Y4OPXmUvRa37YnyNNh9KR8Vw6ztbzc8Sw8ih94fSTGi5Am6UnvN2Xpfjdde76MZSM6cMuUD8Fs4ciYDPn6Tpq0h1T6T3UVfVIq1y02xWVQWsJ00VhNNXfrmSwQf1v9hzu9f3W5RlIyWD/XS1r8ruJ60vJyp7rn1TDb+n0HCXLOcU3FpZJWpB64L9vEYVOhMjQRIXOZZio5wWfVliGLmje9wqKnncO+UGhs/KrHq2PpAnrncxqFSxkhnygPgtnjkSATs+LGR3azy22m26K8kXrixPUpEdPUxGVYh7jdXR800az5/9uT8f/73bbdW0TvqynFNYJinqyfE7VfiYrsi2VEcVOltJNy36E7spZ5AhhpETbthdTw/18np5gBunYu9AN0z0vd7utYa86NZUeX/IUEMsNuK3kGZPBFzFy07MdLyx1aHNuwnP1rJql4C0z2OTgklLU6U+d9ZeiBsQXWo02PxlLbOcU1xunoC6tnZoWVn8dM9MAv2gjumhZFPmB2SSIYaRA5OSADO/qZcyhvXmegxRNPGGCTOcMejhJA6x0Ijfopk5EbBj24OKl62smQqZ3h3xV25JOycrnRTo8dpJgZf23G7ozRfpKbBzKOLJSbB6jf45yzkIViE4/NiLDaMqfV2X2tFADr25A/PJEsPIhak9AfZ7F8wNCZj5J7GhYcC8plWSiEMsMuK3cGb5OwKX3dpQVa8ja3XbNdz99WPteW11xHHrwofWee+3x89lfnbn+4874eeza9iOnss9t//65v37r+8/fyBxrfo0aevUR95LIOH3jX2mWc4pCBWG7qcoF1tqi1+ntGPRa2LPSzpnHDMZYhgLJR4z8WuYyJQFXjwklDdAVkllV+z+k3r/Iw7xZRG/0NITAXWR41taxWhcKUs/L3qOFzQmiLx/44Is8dzEynfkuaOV6ejzazeZCGju+VPfk5blnALQv3syV2FPiTsbp9HCZ55EQMsSw1gU0ZixiZt//fwtci0j5Uu2MgCI0/GTJBqPifcI4hBfmI67JMRvsazoROD27dvqOgJfhp6Yq2LR7QHTETNYBMQh8oz4hfaJy4cCAAAAyCMSAQAAAKCASAQAAACAAiIRAAAAAAqIRAAAAAAoILNq0J07d9wuAAAAgCJg+VB8cSxhhlkRM1gExCHyjPiFxtAgAAAAoIBIBAAAAIACIhEAAAAACohEAAAAACigxESg/2zFTCKJb/vSd+dcq/f7Mzz3lXTvrUj91ZXbvwn2NZI/g/G2/96djmt39aouK/e66kpM0pd9rgNGbDxEv6exssKUN+PjxA+uF3GInIrEZHirS/fCnacRv0sjvUdguyOXw6GZUR5sl90z2YoGw3XY3FHPvyMVtztZSRqvh3J8v+T2b4J9jfHvfipt9Wite+k9NpSdTXs2vpSK7HAdELgYyJnUpHPuf3cjZYW+eVXOxuf029Kq3ECZhuIiDpFXpi4Wjtug/iN7T6SxZs4ifpfMTEODSveP5XSvJ83H01pqAeAzUxWwnmxIObhZxVxJ93krfENTNz5Tpr28kb5OFBFxiCXSf7YlLZUKnD4NmmqJ32Uz8xyByoOO1I6achjqBop0hSYO6Yh2l3pDgUwXk7d/0ZV62rk6CGNDgyY8txY8v/n/+LxP78qy72X/1fj9jp4z+js8S/iCZDkHlr52Kq66wbA1E2P2uo+vo70eo88zdAzL7mpwpm5O1Qk9iwMZHIm074bPqNxti+yehMsMYE7EIZaGqqMc7KpY7fsjNojfZTP7ZOG1smyo/50Ngoq4roypjHHvdNSVdHqrKauxiv2WnHlDa+wwo0iFXdPnrjdlo++6nPTz7bVkK228uHvu0Ovr82PPrR57Xh4NdzrdU49UEl5/Dq3GsdRdF5kZpuJ+Bxn9vpfS+bAVTpCynIMwlYA2xV3n1w0JDw7TScCqNG+N44DuyiK5kpM3PXUjUt8hLxEMNRi4IRvJLbVnMiBO8MmIQyyP/sum9LY78tAffkv8Lp3ZEwEpS3nb/ahcvTqIdBupzPCpHlPWkgNX+F29OzbB9MIbI6mHGSXOCzDdquEgqzxNqvhZQaBeTnh9qyad5+PnMD0b6pyT62gx9rvIlOA9jX/fkjSeh3tSspyDKHUNH8QixrGtFLWvym5fMeMdj0PXBsvKXv/Q3KbzjkhjNT5JE7gxxCGWxIXtDah9U02se2F5zJEI+FzrR6wbtCLVPZHex4H62Z1zq5wtmDarqhLfk+Z6wioLMVcy+KD+F3tu9/pvTtQZgUljNj9NqPIpfTlJ+vKsVaWuEijbk5LlHMRNuobumqsbLr0qRWQnjocaDNYa8qJbUzFxeC09f8B0xCGWg2nAVbWxJ/4kdyylORIB1+Lhi3SD6m1LVXR94cryJLogvZSOqhCbSp17vkljvbM/9+fjv3e7rUoz8rllOQfZ6Z6jS3XD1UOIVoPPlHkXhVYqm4GMdFfjiyIOkS9pjbxYRrMnAm58WP1rL0v0xueHNm+4ju0dyMpfvtMmBZPGeqc+d9ZeiBsQXWo02Pwl5LKcg9nYIWf2czRJgUpS6ZKHYeY39VIqYzfXYwiEEIdYeAlDbQPE79KZORGwY9vrUjUXuyTlW+p/HwaRoRj+yj5p52SlkwI95j8p8NKe2w29+SI9BXYORTw58Ve4yXIOPpVd7nbWJBS5ZBYNiH93zAouo/LKfu9a34V7ifrf6aXwaPnCNSAOsQySGnxHiN+l8/bt22GUqjwNZbszvHT7gctubaiq18POuXvAOB22RZ2/d+r2g/Pa6ohz3hnW1Dm1rveM/fb4uczP7nz/cSf8fJfDzrb3XO65/dc3799/ff/5A+7ftftufyL7O4bevxF5L4GE3zf2mWY5pyBUGLqfxsw19z+LpGvorou9hgnXaKZrjDxJipnk733k+kcfSyhvgKyIQ+RZUvwaJh6j91sP8btU0hMBdZHjW1pguGRg4nnRc7ygiQadC7LEcxMr35Hnjlamk4L6JhMBzT1/6nvSspxTAPp3j5o9EdCiMZZybZB7STGjRcuuxO93pHzJVgYAcTp+khCHyAMdd0lijblJiN+lsaITgdu3b6vrCHwZelKvikW3B0xHzGAREIfIM+IX2icuHwoAAAAgj0gEAAAAgAIiEQAAAAAKiEQAAAAAKCASAQAAAKCAzKpBd+7ccbsAAAAAioDlQ/HFsYQZZkXMYBEQh8gz4hcaQ4MAAACAAiIRAAAAAAqIRAAAAAAoIBIBAAAAoIASE4H+sxVZWalL98I94LvoSn1lRfbfu/0s3u+r59uXvtu9EeY19PuObzO9V3xxJv7udeXK7Y8E1/hZPJKuXtXVMR1jV9K9tyL1V7F/jaVnr/3U736krKB8wHWz5RFxiHwifotlQo9AT5qPEypj89jckeFwRypu9+bUpHM+NLPgR1u/La0KQZon5a9qIkcDGbj9QP+7lv1h9ySSVF7JyZueyF5VxVhJGq+Hcny/5I6hGHQSsCpN6cjlpO++vnlVzsblhDknpdEDmIeKsdWGRGKMOEROEL+FM3lo0FFTHuW9ZXXzoXS2Rc4GtBDnRenrukrpWnISSt6uZPBBpN0/FVXkRI6ppOFIpYFfld0+CufiRI6PatJ53lCpoLO5I6d7Iq3nQYOGShaeq2Ry74k01swD7pyeNF/eaH8lCiMtxlQcfhfEGHGIRUX8FlF6IrDdkY66+L3G4fQhPW64UGo3kc4e3dCgtGEf5nFvyEemrqlPYIc/eZv3nsbDTHwq+PWwg1neo/m9x8cTh7sgbq0q9Wjy5ip65bWylKPH3p+o1KAm9a91FdBep/HQoL7sm2tj/z+6FrHhRZHjXKt8WWvI8fB4fGNyTO/SiE0Y23fDfZOVu+2EXibgphCHyDPid9lM7BGoPrWtr1sJY7JHdBKw3pSNvusiUttlt5baTWSC5ehYTkLH+nKyOw4sXcEOdU2dd+SsMue47/eHZrjAC2+oiE4Ctj54QwiG6vc8asqq+z0TW6RNRXSG9xjtOhteqncxfg1MUpLyLZWEvjkZV8YvBtLbrkt1rSTVb2qhY1eDM5W46mPugQStyoGUvW5M2d3yEjedBGxJa+/UXauhnN5S1+qm57XghrkhY7fKtpdAxdCZ+maXE+PkTAZ0a+OTlaTxWJcvB+P7n7oXbHn3N+IQi4v4LaLJQ4OkIg9VpT5caQq7enesKmgdebjpHlBsRbqXHBCbVZVc9OT4nVepNy26bama5+jLYaMnte6LceveWkNeqPcxvXeiJ811r1VXb5VWZLy5Szoee0MI1O9Z3VP/+zCwlUvXIj3uCnO/5wzv0VROZcP7stix68On4SwayWzCOL5uZn6Aq9CVyhuhY4OPXmUvRehaueFiwfW9enVg4u/UuzYVlwQfMOk4v3QjQELLFXCjNndkeF6X4+Be5BqEdrx7JLCwiN/CmZIIqErX/Re20lRJbh0t3T+W4WtbqR4NlVlvqkpzGlvpHrfoBuPN9ERPJTTMY8wmF9OyzYTJwucd9ajfq1GRHfW4DerxcBCd8Y7ZVudxN5c/GVXJ8B6DXoUt9dzXPaypENbKo89ylLwFFTqTTAY9NpFjKTbKaWlC5NqOuDj9GJ2yjFzQPZW6EWDvlBsYPisz7HR9IE9G9yBbqWIlM+QB8Vs8UxMBXSluPI9Wpj3e/IDVRk/aeoiQqXynCw0Pigy5sRJa9icmFxO4lnp/7Np4fsCWtLbtECE9GcZXuv9kXNmc5z2aMcu6VVknUcE5zKrPzPTKuJ4j0xUZ9MZotpJuWvQndlPOYHcrfC3VFk4OkRtuuGJPD/WiBw6fk4q9A90w0fdWycvcow18YcRvIWVIBJRRZdobN+b0X6obrqtM6+wxU+ubNzwoPOQmkNCyb7b4ZMCZjQLdPafrzYgbVzbnf4+298E+rpMCnTww7jwbN0/g48ANPyuLvyaQmQSqh3KpRMDOHXAH5uXNDwhtVCTzZVISsFaWDfUdTO5V9IfxAZ8i3jBhhjMGPZzEIRYa8Vs02RIBxQ4RUhXZit8yb5d0rH1TDVWmbcV5kmB40KEcRodlmCEhCUHmrTw0l6AiqSuOsUq9HV4SFcyCP9Rj0D/5PaqkwPSUTBvehID/+UdjzAy9OhrIoTd3YD424RjNDxmJrj6EhTe1J8CuOOXP/dHM/JPY0DBgXtMqScQhFhnxWzhv374dRp3uyVC2O8NLtz9y3hnWRB1TW7tvHzLnSnt4andD59S67hn67fA5mnks/FyBy25NPV4bds7dA+pfqirh+PmSmOfz/43j3s/oNdy+/1z2d4j8HoZ93Xneoz0efr7Uz7Xg9OebLP3zTz92Oexs+9fXnpd0juwFV8c912g/+fphccRjJn4NE7lyZxQPaeUGkEFS2ZV2Twzdv4hDLADiF9psiYASVJrHFStXqVKP2U0HQ+SmbIIkrZKdXNmyFbHx84aCMIkLzKQtXAlUoueq9xmv2FuxL4Vn2nuMHk97nqLTn02yILaSPzd7baLXbJ5EQAviMdi4VossGjPx75q/Ra5l5PsfKx+AjHT8JMl0/yIO8YXpuEtC/BbLik4Ebt++ra4j4vTwkFVp3mLS4U3SE3NVLLo9YDpiBouAOESeEb/QMs8RKCT312w7D0gCAAAAsFxIBBK5vy+wrv9i8jWsVAQAAAAsGBKBRONlP/ljRAAAAFhGJAIAAABAAZEIAAAAAAVkVg26c+eO2wUAAABQBCwfii+OJcwwK2IGi4A4RJ4Rv9AYGgQAAAAUEIkAAAAAUEAkAgAAAEABkQgAAAAABZSYCPSfrcjKSl26F+4B30VX6isrsv/e7Wfxfl8937703e6NMK+h33d8m+m9YiFcvarLyr2uXLn9ZPYvQHN9Ybm/CB7Z6q8iURQpK4gfXC/iEPlm7r/TYpP4XRoTegR60nw8rSKW0eaODIc7UnG7N6cmnXP7F4FHW78trQpBupzsX4Dmrz/DuBjIWUIZcHy/5E5Q9M2rcjY+x5QPKY0ewDyIQ+SZis3VhkRiM1KHIn6XyuShQUdNeRRtxcibzYfS2RY5G+T89wAwmaqA9WRDymtuP+ZKus9bIntPpBGcs7kjp3s9ab680f5KFAlxiNxKi02R1ndBbBK/yyY9EdjuSEdd/F7jcPqQHjdcKLWbyHQh2aFBZthRwpAP8/iz8Stl6pr6BHb4k7d578m+dnQokwr+e+q8Wd6j+b3Hx6cPdUEq/Vmqz68bXDfzWUaHBrlr5H3m1x03WFxXgzN1c6pO6HkcyOBIpH03fEblbltk92R6OQdkQBxiuRG/y2Zij0D16am0pSVbXuU3RicB603Z6LsuIrVddmup3UQmWI6O5SR0rC8nu+PA0hXsUNfUeUfOKgljLLN4fyhN6cgLr1tWJwFbHzpy6d7vcKh+z6OmrLrfs/R1XdRvICd+JfLiRI694J/6HqNdZ8NL9S7Gr4E5qGvUlFP7eb5uiNfRrugkYFWat9xxvdFdWSBXcvKmp25EW6FEMFRmuCEbyS21ZzIgTvDJiEPkWUkaj3WF/mB831R1mS2vfkb8Lp/JQ4OkIg9VpV4Xamktq1fvjqW33ZGH3jhtW5HuJQfEZlUlFz05fucVjO9PVLW7LVXzHH05bPSk1n0x7nZaa8gL9T6m9070pLk+LnzNVmmpCqTKYN0Zo6TjsV+RrEh1T/3vw0AV48paVerbfleY+z1neI+mVSjUPay+YK9V5fRpOIvGLGrSeZD2+dlWitpXZbevmLkpx+NrhCVmr7/uyRwl+Co5l8bqfA0IwFyIQ+Scvm+e1+U4qEu5Bk3m4i2vKYmAqr7ef2HG2Lcqyav+lO4fj1pnR0Nl1puq0pzGVrp7b05spVu35JrxZq4r1SQFNal/HW7vtcnFtGwzYbKwKoR16/64V8OfYDpe3UFnvGMlqX6jE6Cgm8u18szwHoNehS313AxPuS6Txt26uFI3XIZgFZH9Xod6ijI3IADXhThEvplh0+sDeTKqQ9mkgER2eU1NBHSluPE8Wpn2ePMDVhs9aeshQqbynS40PCgy5MZKaNmfmFxM4Aphf+zaeH7AlrRcy42eDOMr3X9ihkWZ4UHzvEf1usd6yJH6Uc+4t+cwTOUmVZ7aYWl6CNFqcE0YilVopfKG+i/d1fiyiEPkgqrPHegRE31vlUcS2aWXIRFQRpVpb9yY03+pKr9eN2im7iNveFB4yE0goWXfbNcwzGMU6O45Y2PNA7aFWQ8Pmv89utYhs+mkQCcPN/z3FArO9FC5z9wkBbtbtGTAWivLhvoOJlfGJvU2AdeIOMRCi4//DyWyxO/SyZYIKHaIkKrIVvyW+SsZfFBh8001VJm2FedJguFBh3LoD7nRVJCp3DMeZN7KQ3PZLosZPW6WdotW6u28gahgFvzhx+t4jyopMD0ltAp9Ljop0D09vY/jGSJYUq5nMjoMz8zV2a5L1dycVBkQmfuj9b/zhiYCn4I4RO5Nq+QTv0vn7du3wyhVeRrKdmd46fZHzjvDmqhjamv37UPmXGkPT+1u6Jxa1z1Dvx0+RzOPhZ8rcNmtqcdrw865e0D9S1UlHz9fEvN8/r9x3PsZvYbb95/L/g6R38OwrzvPe7THw8+X+rkWnP58o8zn539WSTHkPnN7bRJiJHrtsTSSYiZWFrkyJnT9o4+llRtABsQh8ixT/CbUmYjf5TJbIqDYIPELtcthZ9s+ZjcdDK4CvedCyQRJciUu/rhlK9Lj552YBGguMJO2UAGsRc9V7zNesbdiXwrPtPcYPZ72PEWnP5uo2RMBLYip8TY1bpBLSTGjBeVTsMW++1rk+594DpCBjp8kxCHyQMddkkz1L+J3aazoROD27dvqOiLOW5ueZT9vjJ7Uq2LR7QHTETNYBMQh8oz4hZZ5jkAhmdWCJq1dDwAAAOQTiUAi9/cFzF9M5g9SAQAAYPmQCCQaL/vJX9MDAADAMiIRAAAAAAqIRAAAAAAoILNq0J07d9wuAAAAgCJg+VB8cSxhhlkRM1gExCHyjPiFxtAgAAAAoIBIBAAAAIACIhEAAAAACohEAAAAACig9ETgoit1/dd1/e1eV67cYXm/bx6rvxo9EueeQ59z9ao+/Xz3nPvv3X6C/rPI+4i5ku69Ka+DhZZ6jV18rDzruwfGbHztS5/rX2D22psYcVtiWRLE0aRzgE8Q3O8mxhhxiAVl7sGj2KxL98Id8BG/SyM5EdAXeL0pG33713WD7fRWU1ZNZUvZfCidbZFe49DuJ+i/bEpPalL/uuQeqYm8WU0JmL7sV1ru509RksbroRzfD14TeVP+SsXJ0UAGbj/Q/87Fx+5JJOau5ORNT2SvKhWuf0HpJGBVmtKRy6DM6relVYncoHTZVjmTzrl/TsqNDpiHirHVhkRijDhEPugkdmu3LaeuHL3sijTXI7FJ/C4XvXxo1OmeDGVPhUHM6bAtMqx11a1WuezW9LpTw3bf7EbYc4Pnsee2h+2U59bHa3vtoaoCpjyfZd7bdmdo3wGWgY6hkPNOQhxcDlXiqR6zcRU+Fo5LLL/kmKkN1Y0pJFxe2BiKlj/p5R0wWSwOM8UYcYjFEI/fpHupjdfxY8TvsknoEbiSwQf3Y0xFdlTsBK2tpftPRAWNtL5L6BN4fyK6/bZ9t2L3nepd9S8SW3RF6nfLbv9TRIaG6MxV92KY/0/qxurLvnd84tCU0RbOgE138LPueHhCwhAWZLBWlfq2yNnAuwIXJ3J8VJPyWlnK0WMm1oKep+jQIHtd999Hrm/s2mS4/lhcaw05Hh5LY83tO6Z3aWQgg6N4mVRJLJOAm0IcYlGF63iWjdcx4nfZJCQCJal+o26eu1uqQuSGAaWqSHVP/S/h4pthHNsdebjpHghsVlXy0JITvyKuK3lSl2rkJn59WrL1vDwaMqAyV2lV/N9NVwK3pLV3ao6bc/xhUFq0K8w8T0+a65HPaLcpx99c2nOehr8oyKok5VsivTcn48r4xUB62zpGbHz6x64GZyrWJsdPq3IgZa8bU8f3OBnMcP2RQ27I2K2yiihFxdCZShjLiXFyJgO6tfHJStJ4rMuXg3Ejkbp3bO16FSfiEDly9epA1aDa8iRIDojfpZM4R6B0/1guu7olTVWgvVbSpAmYlQcdFRKRir2qPp2ogq/2TdXegENs8uD3Ily9OxZJPPe61KTzvDF6/uh7DgL91Ku4V56emoTlwP3OJrHZexJqcTQZcCzwvS8M5mY+W2+egPn8XYWuVN4IHRt89Cp7KWrdF+Nr5+a3BDGY5fojh94fSjOh5Qq4UZs7Mjyvy/G6u3e6BqSdaKMYsMjcCIjVRk/dPx+qmhuWVeqqQToZsK2jl6bSpPUaqyowIhNC3DCO1vPxUApbsfInCYeZ7vpRL0JfDhuSeu712EjJXjV/oqnPJiy9j7a6WXk6buEfzahPmty8XZbrGOBUeGtlFUFBkmUTy1GFLtSrFDmWYqOcFl/Zrj9yRq9Ypr+fe6dUwPBZmfvD+kCeuN7FIClgJTPkik5oXR2w/kbV/RjqvLRSE4ExuwqLLdB0S3pPmi/9gHBdoUfHcmIqbUHFKtx67it9XR9X8vT47inDOj4LMxTKVfDdprtzR7z5AVu7NTtESA8xwc0wCWZPjt+pm6fpimxLdVSh83qVJnZTzmDa9Ud+6CRgvSk9PdSL4Xn4nFTsHeiGif7OuGFhrSEvuurOOWGFPWBxJQx3w1LJkAh4VIH2RFXA5MNg1PpvmBbaoNKmJ3VOaaH1Knl6yEfyEKLPzBsfHtpMReJKus9t66J9PD4pEdfNzRP4qGLt3bH0Ij0tpldJx6FKBOzcAXdgXhOvP3JjUhKwVpYNVU4lj2Gd1GsIzCLeMGGGMwaNX8Qh8oz4XTrxRMD9EbDktf6d2HjsijzULR5vTqRvKm0Jk4RDgsmgj+RgN30I0edh30ssudGV/9HqM8mz5Efr2uNGBKsQHH7sxZJF06t0NJBDb+7AfLJcf+TC1J4Au+JUdJUzO/8nOjQMmNe0ShJxiAWVUv8zC3IQv8sr9e8IJKzJnbZWt+HWfldPmbiee/B3BEarzPbb5tzQ3wRIXD8+zLy3iX9HILLmrXkd73W12OuE/+aBFn6/bt1c/3WD9+89j/k3/I2DmenPMJm7Lt5nPJZ2LLrmsT0v6Zzx9Z52/bFo4jETv4aJ3Pd2FA9mP6VMA6ZIKrvs/dMrO9z9JnRfJA6xAIhfaIlDg8zE2P6GNNfDY6ZXHou8SBsWEwwbkoyr5pjhRCp05hkWdKSXdoy8N7XN33qr1849lbY3Tny1sSGnw2Ccp54noY77r6sOnJo5ExJe0x7XyLY86Jgazw8IuKVrr2N+wNTrj0VnFyhQEuZ6hJZB1hPg3F96NccqLWn3GeqH66Pvn5fds/GKe+tNke5leG124hALSsfv6Z63YqSK341+5G8LEL9LZUX3CNy+fdvtAp+fLkhUUur2gOmIGSwC4hB5RvxCm22yMAAAAIClQCIAAAAAFBCJAAAAAFBAJAIAAABAAZEIAAAAAAVkVg26c+eO2wUAAABQBCwfii+OJcwwK2IGi4A4RJ4Rv9AYGgQAAAAUEIkAAAAAUEAkAgAAAEABkQgAAAAABZSeCFx0pb6yYiaTjLZ7Xblyh+X9vnms/mr0SJx7Dn3O1av69PPdc+6/d/sJ+s8i7yPmSrr3prwOFp6Jl4nXWevL/pR4QZHYeBiVV26LlQWunAk24gfXizhEvpl61ig269K9cAdGMsY4ciE5EdAF1HpTNvpDM6M82E5vNWV1ZV+FgLL5UDrbIr3God1P0H/ZlJ7UpP51yT1SE3mzmlLgqcCqtNzPn6IkjddDOb4fvCaWV0V2VFzubLpdFNvFQM5UGdM5D5dbobJAl22Vs/E5/ba0Kkk3OmBOxCFyTDfCbe225dTF7WVXpLkeic0sMY7cSEwE+t+pCvneaayCVXl6Kqq4kgOT9ZWk+o2q2Kv9k5SK/cmu+t/eE2ms2UdENmTjlvoX38VTh6tXB3K219apAgDMTt2ceqqMKY/Km6gr6T7XZZtXJm3uyOleT5ov05ozgBkRh8itvhw2elLrPpSKe6R0/4V0tnty/M5r7Z8a48iThETgSgYf3I8xtgU2yPpK95+oxCC5Yi/vT1SKINK+G4STVb2r/sXuSaQX4UpO3ojU75bd/qeIDA0y3a/70p/aDRvp6koalhJ5jmiXmRnO8qxrXt8cf0ahfm30Z6+uSTfosjTXx16z8bW0196/RnS3F8fV4ExVrqqjG1jcQAZH8TKpklgmAfMhDpFf4TqeZePVNz3GkScJiYBr6d/dUhUpNwwoVUWqe+p/CYWX6VXY7sjD6LCNzarpVQj1IlycyLHUpXpj2WVLtp6X5dJ1X52q99yq+L+brlBuSWvvdNTFFRoGpUW7cs3z9KS5HvmMdpty/M2lPecpX5NrddSUprhr9LqhItWnk4BVad4aX0O624tENyb0XLk1TgRDY1Zdd3ZyK9aZDIgTfDLiEMtFj9ZoqVrbk1FykCHGkSuJQ4NK94/lsmuH/WxNudCVBx1VpEWHB9lhQbVvqpHKmmaTB78X4erdsUjiudelJp3n44pj9D0HgX7qVdzDw6BcYhMa5qTO0S04sYLb/8Lgeqnr+CAtubKtFrWvvF6lzR2VEByHrhmWlWu12u6MEv7heUekscoNCp8RcYgl4UZArEaGChHjyyd5srCikwHbsnppJgVrPXWhYzPI16pSV8dbz8dDaWzF2p8kHFb+Svc4BL0IekyapJ57PSaP1zTZbaybyyYsvY8Du/dUfRYuURjNqE+a3LxdlusY4IQkk66ju146RqeuNoTlY7u0Qz1Faw150a1NXNAAuF7EIZaEaUizdcD6G3VfHQ11JsaXTWoiMGZX4QmyPnWpIxOa1PHHbZGjYzkxCUJQsQ63nvtKX9fV87iWdD2XYPsmhwVlFOnm0tuWnuwc8OYHbO262fJ93SOARaGTNdOTdaSHdbnryDyNQiuVN9R/GW6BL4s4RH65Ot7uwcRhtsR4fmVIBDwq63ui5wR8GIRbXM24fzerXI/3P4pPhAoxvQj2fD3kJnkI0WfmzQ8IbaYXIFjlITiH4SaLatyT5ZICleDRXQljrSwbqpxKvlGxAgY+E+IQwAKJJwLuj4BNXG3lVjlSca/IQ90t9OZE+u+OpZc0STikJOVbos5/JAe76UOIPg/7XmLJja78j1YfsmPiosmNmTeAhaWTAj0xPBjehSWWUm6Z1S1GPY5lKethjJFVzuz8H1bAwDUgDpFnk+I3SFIzxThy5e3bt8MoVXkaitSGnXP3QOC8M6wlPa6ZY/rfybDWvXQPjl12a+pYe3jq9of9tjlXtjvD0dnuOdp9t5/AvDf/38RcDjvb3nswr+O9rhZ7ndNhW7+XvfFZ4fdrnzP0usH7957H/JuJ7w1J9GcYFfssk66ju27287c/h2IvQzwhn5JixpZb8TImdP2jj5n9lDINmII4RJ5lil93H/XvrZliHLmRmAgY7sKGtimV3FhweGKJgPppnoqbfY3kzT7XPImA5pKB0Rb9PRKOR74gJALz0Z9n1OyJgBa9RpH4wtJIihktWj4kliWRso2bF+al4ycJcYg80HGXJEv8Zopx5MKKTgRu376triPwZehJvSoW3R4wHTGDRUAcIs+IX2izTRYGAAAAsBRIBAAAAIACIhEAAAAACohEAAAAACggEgEAAACggMyqQXfu3HG7AAAAAIqA5UPxxbGEGWZFzGAREIfIM+IXGkODAAAAgAIiEQAAAAAKiEQAAAAAKCASAQAAAKCA0hOBi67UV1bMZJLRdq8rV+6wvN83j9VfjR6Jc8+hz7l6VZ9+vnvO/fduP0H/WeQ9+Zv//owr6d5LOC/pXPfaaduk94TrZa5x7FoqwTV61ncPjNn42pe+u+YT4wxLKv59T/zeRr7rfLdx3YL73cQYIw6xoMLxW5fuhTvgyXIO8iE5EdAF1HpTNvpDM6M82E5vNWXVVLaUzYfS2RbpNQ7tfoL+y6b0pCb1r0vukZrIm9WUAq8v+5WW+3mK7Y5ceu/LbqfSPlLvL6GSKHunkXMvpSPq3Fhlsyadc/+88baz6U7BjSt/peLkaCADtx/of+fiY/ckEnNXcvKmp65zVSpSksbroRzfD2IOxaCTgFX1rfbKhn5bWpVIBUuXbZWz8ffcnMNNDNdIxdhqQyIxRhwiH3QFPxS/53U5Xg/HZpZzkCN6+dCo0z0Zqsqz2/OdDtsiw1pX3WqVy25Nrzs1bPfNboQ9N3gee2572E55bn28ttceqipgyvNZ5r1td4b2HUT02+o1akMVnM7lUCUryb+LObet3qUT+7f4XHQMhZx3EuLAXst238ZV+Fg4LrH8kmMm/v0NlxfJ5UF6eQdMFovDTDFGHGIxxOM3+V5q6m+jcjTLOciThB6BKxl8cD/GVGRHxU7Q2lq6/0RUQEjru4RW+Pcnottv23crdt+p3lX/IrFFV6R+t+z257RWlpr0ZEBWmm9rValvi5wNvP6aixM5PqpJWV3jcvSYibWg5yk6NKgv+6bb3f5/1JUZ6zmKHE8amoTFtdaQ4+GxNNbcvmN6l0YGMjiKl0mVxDIJuCnEIRbUxUDOQqM4rFJ5Y9xLn+Uc5EpCIlCS6jfq5rm7pSpEbhhQqopU99T/EgovM4xjuyMPo0NqNqsqeWjJid9Nqit5Updq5CY+MxWgeihSeerzqMri85a0+zvqN8DiKUn5lkjvzcm4Mq6v7baOERuf/rGrwZmKtcnx06ocSNnrhtfxPe6q10nAlrS8IWShYXDIKTdk7FZZRZTibmDJ5cMZDQi4BiVpPNbly8F4mMT7fdna9Sr+xCFyKUtsEr95lDhHoHT/WC67uiWtJVteK2nSBMzKg44q0iIVe1V9OlEFX+2bqr0Bh9jkwe9FuHp3LJJ47izcHIO9J7FWQZvUeK29K6vSPIq0KmOhmNYxr3XBJJauQhdteRh89Cp7KWrdF+O4cPNbghi8enWgIrgtp0/HaWHl6alJWA+YdJxf7w/N9zza8grcqM0dN2ba3W/cXADmmWHhrZVlQ3py/C583zONbYEs5yBXUlcN0smAbR29NJUmrddYVQVbZEKIG8bRej4eSmErVvGuo4Dprh/1IvTlsCGp5ybSk4JDFXu9uRZdrzI3EpssPJRTlYz0Go8ik1t60gwKb29jBZovwAzzCloXbGI5qtCFepUix1JslNPiy59o7LMJa+8jHZ25pFcsMw0Dp1TA8FmZVc/WB/IkuN+4pID7CBafu+/5dSNVlj5qqHvkSJZzkCepicCYXYXFFmi69V9Vll/6AyZcV+jRsZyYoAgqVgkt807p6/q4kqfHd08Z1hETWjUoSFTCLbrT2BbfaFabvGoQK9B8ASbBdNfHdKW3pTqq0Hm9ShO72WcQ6zVaMd35yCGdBKw3pZfWMADcFBV7B7phwh92utaQF11155ywwh6wKCpPdUOp1yj6WOSFHk7ryXIO8iNDIuBRBdoTVQGTD4NR679hWmiDSpue1Dmlhdar5OkhH8lDiLLSiYodxrHFBM8l4uYJfFSx9u5Yettl8aeSm14lHYejuQPuwLwSeo3MRkUyXyYlAa5LO3kM68anJ5OAEW+YMMMZg8Yv4hALTlf0R/fA1w0RM+wnHJtZzkE+xBMBfSNVGd7EP24SG49dkYe6xePNifRNpS1hknBIMBn0kRzspg8hyq4iOzobPWrKoxm7X9OHjOBLC1bROPzYiyWLplfpaCCH3tyB+dhYjCW3ao8/TJYzU3sC7IpT0VXOzPyT2NAwYF7TKvnEIRaVXT0vfN+LDp/Ncg5yJfXvCCStqZ+yVrfh1n5XT5m4nnvwdwRGqySbdfvV+f66s4nrx4eZ95ayVm38faf/HYHY8/B3BL4YHQfJ3N+iSIyJtGP2mo9j0J6XdM44LtxzeXESi1cslHjMxK9hIlfujOKB7z0+QVLZZe9DXtnh7muh+yJxiAWQJX7tvTAcm1nOQX4kDg0yXT79jfjEWT0OLGGtbiMYNiRteZJlTL0ZTqRC55NXCxoLxv031yPLPiaN//7QkcvXjWt7bdwE23KmY2o8PyBg5wmoCLqGrkj99zFU7HhxstrYkNMhy8vmhV2gQEn4roeWQdYrupi/4uqOVfQywillGjAHff+87J6NV9xbb4p0L8NzzYhDLCg7/n+8YqS9F4ZjM8s5yI8V3SNw+/Zttwt8frogUUmp2wOmI2awCIhD5BnxC222ycIAAAAAlgKJAAAAAFBAJAIAAABAAZEIAAAAAAVEIgAAAAAUkFk16M6dO24XAAAAQBGwfCi+OJYww6yIGSwC4hB5RvxCY2gQAAAAUEAkAgAAAEABkQgAAAAABUQiAAAAABRQeiJw0ZX6yoqZTDLa7nXlyh2W9/vmsfqr0SNx7jn0OVev6tPPd8+5/97tJ+g/i7wnf/Pfn3El3XsJ5yWd6147bZv0nnD9TLzErmdUX/a5Nhix8RD97sbKnMh3nfjB9SIOkW9Bfc1udeleuAOeLOcgH5ITAV1ArTdloz80M8qD7fRWU1ZX9lUxp2w+lM62SK9xaPcT9F82pSc1qX9dco/URN6sphR4qvCstNzPU2x35NJ7X3Y7lfaRen/PEt7N3mnk3EvpiDo3VtGsSefcP2+87Wy6U7BAKrLDtUHgYiBnCd/h4/tB+aPosq1yNj6n35ZWhZsYrhFxiBzTFfzVhoxj87wux+vh2MxyDvIjMRHof6cq5KryHK1gVZ6qyra05MC0bJSk+o2q2Kv9k5SK/cmu+t/eE2ms2UdENmTjlvoX38Ur61evDuRsr61ThTmpSqEqTGX3IEMwlqTxWJ17NJCBewRAzqkKWE+VMeVReRN1Jd3numzzyqTNHTnd60nzZVpzBjAj4hC51ZfDRk9q3Rfj2FxryIuuSPNx0HCa5RzkSUIicCWDD+7HGNsCG7RslO4/UYlBcsVe3p+oFEGkfbdi953qXV1ZP4n0IlzJyRuR+t2y25/TWlklEj0ZkJUuH92Cdq8r3WBomOnNiQ4Nig8Fo7u9OK4GZ6pyVVWlVBqV+B/Fy6RKYpkEzIc4RG653qzxKA6rVN4YN5xmOQe5kpAIuJb+3S1VkXLDgFJVpLqn/pdQeJlehe2OPIwO29isml6FUC/CxYkcS12qqS0oGZmWmNqElpiAbZFp93cmFNZYOEdNaYob5vW6oSLVp5OAVWne8oaB0d1eILoxoefKrXEiGBqX7W5gyeXDGQ0IuAbEIZZVltgkfvMocWhQ6f6xXHbtsJ+ttMLMqTzoqCItOjzIDguqfVONVNY0mzz4vQhX745FEs+dhZtjEBqK5EQK5ZUVVWE8UiE7oBMrX2rSeZCWutlWttpXXq/S5o5KCI7j8YAlZK9/aP7QeUeksZpYbgE3gzhEjq2VZUN6cvwuHKumlyuQ5RzkSvJkYUUnA7Zl9dJMCtZ6qjCLzQ5fq0pdHW89H48N0+P9W6rSFu06CpS/0j0OQS+CHm8mqecm0pOCQxV7vW1JS08KfppQUYxNFh7KqUpGeo1HkdbinjTXo8+bnADhS5g07tYmmCZGp642hOVjhy2GeorMuNXaxAUNgOtFHCLPgvuoVze66MqjRs/taFnOQZ6kJgJjJWm8dhXoc936H53QFEy8PZYTExSuazSpZd4pfV1Xz+O6kPRcgu0ZhwWFVg0KEpW2nCYlASnsxOdoVpu8alBotQcsrMrToe3J8hPFpFWkUBhm3Crd1fjCiEPkhb6PmonrQaPoY5EXeiEWT5ZzkB8ZEgHPWkOeqExQPgzCLa5m3L+rVOvx/gkToUJML4I9X88lSB5ClJVOVOxqRlu0BBfeuCfLJQW7W/TowHJd2smVsUm9TcA1Ig6x4HRFf9QY+rohYob9hGMzyznIh3gi4P4I2MTVVm6VIxX3ijzUXZ9vTqT/7lh6SZOEQ0pSviXq/EdysJs+hCg7t3ToUVMezVjp2yjT2r+sdFJghoB9ZB2DpZdSbplxq6Mex7KU9TDGyCpndrnkSau8ABkRh8g1uxJfuPEsGOURxGaWc5Arb9++VQldmKo8DUVqw865eyBw3hnWkh7XzDH972RY6166B8cuuzV1rD08dfvDftucK9ud4ehs9xztvttPYN6b/2888fd9Oexsq8f2Rq86Ense835SfjfcKB0HUSZeYtfHix/jdKjSPxcv9udQ7GWIJ+RTUszY73+8jAld/+hjfO/xCYhD5FmW+LV1t3BsZjkH+ZGYCBiuoAptKRXwQKwA9MQSAfXTPBU38xqp78M+5/h1XCIQvH9/iz4HBfEXo69H1OyJgBZc//GWlJQi/5JiRrNl0HhLLEsiZduk8gaYRMdPEuIQeaDjLkk4fpPrdFnOQT6s6ETg9u3b6loCX4aebKRi0e0B0xEzWATEIfKM+IU222RhAAAAAEuBRAAAAAAoIBIBAAAAoIBIBAAAAIACIhEAAAAACsisGnTnzh23CwAAAKAIWD4UXxxLmGFWxAwWAXGIPCN+oTE0CAAAACggEgEAAACggEgEAAAAgAIiEQAAAAAKKDER6D9bMZNIkrb6qyt3lnYl3Xv68X3pu0dC3u+rY3XpXvj70ecIuOd6lvhMKBATf/e6KiIiXPwkxcjVq7qLQxtHyTGG5RaUR+Nt/7075AviaNI5wCew5RFxiHwifoslvUdguyOXw6GZUT7azjsijdWESlZLtmaowPcaj8bJARBR/qomcjSQgdsP9L9r2R92TyKJ55WcvOmJ7FWlIiVpvB7K8f2SO4Zi0EnAqjTFK7f6bWlVIjcoffOqnEnn3D/Ha6wAPpWKsdWGRGKMOEROEL+FM9vQoLWGvOjWpPfmJN5au7s1Q0bYk+bjhBZfQCl9XZeaSi5PQvF0JYMPIu3+qagiJ3JMJQ1HIrWvym4fhXNxIsdHNek8b6hU0NnckdM9kdbzoKxRycJzlUzuPZHGmnnAnaPKo5f0ROI6pMWYisPvghgjDrGoiN8imm+OQLS1dq8jnW3/hjuJull32+o5mnKYOXFAoaxVpa7i6WzgRZOr6JXXylKOHnt/olKDmtS/1lVAVUiFhgb1Zd90W9r/j7oyYz1YkeNJQ5OwuNYacjw8Ht+YHNO7NGITxvbditu3KndVeRTrZQJuCnGIPCN+l83MicDgY09kW1XG3L5VlsbzjtRU5f5RlrHZX7sMs5IytwAFV5LyLQn3PF0MpLddl+paSarfhHulrgZnKib1MfdAglblQMpeN2a4B0snAVvS2ju1x9V2eqspq2lzX5ATbsjYrbLtJVAxdKYSxnJinJzJgG5tfLKSNB7r8uUgNDdua9erOBGHWFjEbxHNlgi4gKh9Ux13vwfWGvJEVe6zjv+vPFCJw4xzC1AcpnXB63ky8wNcha5U3ggdM8lpUNlLUeu+8LoxH9oeLNfVefXqQEViW06fjls4Kk/tEKQDJh3n1/tDaSa0XAE3anNHhud1OV53vYtuLPXOpjsOLDLit3DSE4Ej3SLqAiHYKqq61E+fiGkrTxnH/7v5BrPNLUBhrJVVohi0LvTlxG+R2Kx68wQix1JslNPSBH+isa8iVZ3YfoxOWUYuXHSlrsor2TvlBobPyqx6tj6QJ653MahUsZIZ8oD4LZ70RCBp1SC1Tb6pVmRHD7vIOESodP+FbZlliBCizDyBnhy/U3FkuiLbUh3Fnq2kmxb9id2UM1AJaSjpVZvu/UIO6SRgvSk9PdTL6+UBbpyKvQPdMNHfGTcsBItsNA65z2GxEb+FNN9k4UncDPNsQVOycwvMEAxaXuFz8wQ+DuTq3bH0IvNSzCTQD+qYSgTs3AF3YF7e/IDQRkUyXyYlAWtl2ZBeyhjWjU9PJgEj3jBhhjMGPZzEIRYa8Vs0158IKMH46i3dNT/NKNvcMuN5gUCwCsHhx15sXopZYvRoIIfe3IH52ITDJBX2ASe6+hAW3tSeALvi1HgZPMvMP4kNDQPmNa2SRBxikRG/RXMjicBoiFBGwRAhIMTNBWjtqiIoOsbftErYY586GdQkrnpOjDdx/erVI5WYtuUJf5gsJ/qyP3U4ULAihjcvySyAUJPOA25fuAZu0YzQcFedoFZaUus+dJUk4hALivgtpBtKBBS3Mks2LrCAENvyoKr63vyAgJ0nkNSNOTuVuA5VMuDNE1htbMjp0BsniYVmV35SEuZ6rPjLwOoVMdxfyjTHzAII8b8/AMyr8nQol90z2QriTyWo0r0ML7JBHGJBEb/Fs/L27dvh7du33S7w+emCRI/HB7IiZrAIiEPkGfEL7eZ6BAAAAAAsLBIBAAAAoIBIBAAAAIACIhEAAAAACohEAAAAACggs2rQnTt33C4AAACAImD5UHxxLGGGWREzWATEIfKM+IXG0CAAAACggEgEAAAAgAIiEQAAAAAKiEQAAAAAKKDERKD/bMVMIkna6q+u3FnalXTv6cf3pe8eCXm/r47VpXvh70efI+Ce61niM6Fgrl7VZeVeV0XFJH3ZV/G0/97touBsPEwusxRXDgUb8YPrRRwi38z9dxSbXh3OR/wujfQege2OXA6HZkb5aDvviDRWEyryLdmaoQLfazxKDixgJhXZUXG5s+l2UWwXAzmTmnTOw+XW8f2SO0HRN6/K2ficfltalZQbHTAP4hA5ppOA1YaMY/O8LsfrkdgkfpfKbEOD1hryoluT3puTeEvt7tYMGWFPmo+ntfYCwAxUBawnG1Jec/sxV9J93hLZeyKN4JzNHTndU+XRS3oicU2IQ+RWXw4bPal1X4xj09T7xKuzEb/LZr45AkcDGbgfjb2OdLZFWs+zVO5r0um21XM05ZCuJGSlWyDudaUbDFszw4aiQ4OCoWp0VxbR1eBMlUVVqbj9OFVuHYm074bPqNxV5dHuiYom4NMRh8gt15tV/9rrvVJK5Q2v3kf8LpuZE4HBx57IdlnKbt8qS+N5R2qqcv8ocfx/xNc6e1SJQyVlbgGQRMVXU05tV+TrhoSLKp0ErErzljtOd2XBXMnJG1U27W6FEsHQMEZ3k0tuqT2TAXGCT0YcYlm52CR+l85sicD7fdnaFal9U41UwpS1hjxRlfus4/8rD1TiMOPcAhRdTToP0trZbCtF7SsvRd3cUQnB8bj7EkvMXv/Q3KbUOU3ATSEOkWNrZdmQnhy/C8eq6eXC0kpPBI6asuq1aJit0pJ2PzLpyVN5eirtrOP/3XyD2eYWoNgmjbutSNUkoqsZVhvC8rETx0M9RcGcpsYhPY/4TIhD5FlwH/UadC+68qjRcztYRumJQNKqQWqbvEKLKgT7dvx/liFCpfsv7NwChgjhGlSeDuVSJ5d+EkuPU6GZsa10V+MLIw6RF/o+aib+rrt76GORF7peh6U132ThSczscZ1RZmn9KNm5BdKSg1eh6cfAXEr3j0dJq0kKdrfokoflur2TK2OTepuAa0QcYsHpZGDUAPy6IWKGBrnYJH6XzvUnAoodItSSrUrLPTLBqNt0S5p6bCVwTXRSYJLSjySZS++iK/WV+CpRZmzrdl2q5uZUlrLugfwu3ETR/04vhTdplRcgI+IQuWZX4gs3nrkJ8KPYJH6XzY0kAqMhQhkFQ4SA+SUUYOqmfLAbX+YMS8gtVhAaZvh+X1YbPWk/DsZrl6TxWC9x581LMgsgTJqEDsyAOESuBXMExiM6rl49kuaRH5vE77K5oURA2Xw4Q+XeBRYwNz1J71Q29GRhPa5Rb+tNke4lf3m4IOzY1pZsBdffLW4Quv56JSmzrKx/DitL4foQh8izaPyuNjbkNLr6HvG7VFbevn07vH37ttsFPj9dkOixiEBWxAwWAXGIPCN+od1cjwAAAACAhUUiAAAAABQQiQAAAABQQCQCAAAAQAGRCAAAAAAFZFYNunPnjtsFAAAAUAQsH4ovjiXMMCtiBouAOESeEb/QGBoEAAAAFBCJAAAAAFBAJAIAAABAAZEIAAAAAAWUmAj0n63Iyr2uXLn9sb7sr6hjatt/7x5KYP79Sl26F+4B30VX6v6/d/srz/rugbD094JllXrN3++b2EuKlatXdXVsX0XolXTvrUj9FRFTPPbamxhxW2I5FcTRpHOAT2DLI+IQ+ZQlfm09L9hS6nvIhRl6BPRNdktaUpPO+VB2Nt3DqXrSfDxDBX53i4IQRvmrmsjRQAZuP9D/rmV/2D1RFX7flZy86YnsVaUiJWm8Hsrx/ZI7hmLQ5dOqNKUjl8OhWQlj2G9LqxK5ienKV+XMlGHjc7iJ4RqpGFttSCTGiEPkRIb41YnC1m5bTvVxtV12RZrrxG9eZUwE3E32SCcBx9JYcw9Pc9SURzO0zLYqukUXRVf6uq7SzZachBLDKxl8EGn3T0UVS5FjKmk4Eql9VXb7KJyLEznW5dPzhkoFnc0dOd1T5crzoEFClWPPVTK592RchplzetJ8ScmD65AWYyoOvwtijDjEosoSv305bPSk1n0oFfdI6f4L6Wz35PgdPfF5lCERmDMJ2O5IRwVPr3GYqXLf7nZM5e+AIR1Yq0p9W+Rs4MWCq+iV18pSjh57f2J6qupf6yqgjld/aJAdzrb/fjyszWyx4UWR4wxHy5e1hhwP4+WT6V0asQlj+25w+7Iqd9sJvUzATSEOkWcV2RlGe91tTCOfpiYC/WdzJAFO9altvd1KGf8fUm7Ii25NJQ6P6F4qvJKUb6kk8s3JuDJ+MZDedl2qayWpfqPixDt2NThTiac+5h5I0KocSNnr6gwPRdNJwJa09k7tcbWd3mrKqplzgPxyQ8ZulW0vgYqhM5UwlhPj5EwGlDv4ZCVpPNbly8H4PvZ+X7Z2vYo/cYiFlSF+E1y9OlA1vbY8YUhuLk1MBE6erZgAmFbJSleRh6pyn3X8f+n+ExVKM84twFIyrWPePAEzP8BV6ErljdCxwUevspei1n3hdXU+lM72uKszKMROn44LuopLYumhyrH3h9JMaHkFbtTmjgzP63K87noX3VyA6fPqgAUwS/zquS7qnNXIUCHkS3oicNSU5m5NOv2O1NTPq1la9RPYsWO6RTZL62pFdnRr7YxzC7CE1spSG7WO9eXEb5HYrJpKup0nEDmWYqOclib4E419FanqoW0fo1OWkQt6NbKKHut6SgUMn5VZTWV9IE9c72JQqWIlM+TBTPGrkwZz3qXU36ymrv6IxTahR8ANB9q0Q3bmX9WnJI3ndvx/piFCbmIKQ4QKzswTcJOPTFd6W6qjCp2tpJsW/Ynd7DNQ8T2aH+A20xuG/NFJwHpTenqol9fLA9w4FXsHumGivzNuWFgLhr1mmy8HfDFzx2/CkCLkRnoi4A0HGrfqh5eHCq8jq7a0ir4LpKxBYodlsIJCsbl5Ah8HcvXuWHrbZfHXBDKTQD+oY6O5A+7AvLz5AaGNimS+TEoC1sqyocqV5DHYG5+eTAJGvGHCDGcMejiJQyy0KfGLpTN1srCl12Z3lXNv/H7lafZKU7C8VLOibtLusXRuiNDuFq2yBRasonH4sSe1b6qhOQBmidGjgRx6cwfmYxMOk1TYB5zo6kNYeFN7AuyKU+Nl8Cwz/yQ2NAyY17RKPnGIRTYlfnU5uxL/I2Nm0Q4S2Xx6+/atqsOHne7JULY7w0u3P9JvD9U/GcreqXsgWeq/P+8Ma/rfq63dDz822veY59HnJz0Xloa+xslOhyoVCMfLSNqxy2FnW4a1bhAx9rykc8Zx7J7Li+vLbk09d1sdwSKKx0z8GiZyZdgoHsx+bdg5d/vADJLKLnvf8soOd48bl0kKcYgFMG/8Zopx5EbGHgFnc0dUBcmOp55nUshaQ57suZ8zqDzQcwtQXLblTBU43vyAgJ0nkNSNOTu9LvKptL15AquNDTkdeuMksdDsyk9KwlyPFX8ZWD25zf2lTHOs0pJ2f/alkYE0uqf8snsmW0H8rTdFupfhddeJQyyoLPGrzznda4XO2ejzF/3zakX3CNy+fdvtAp+fLkhUUur2gOmIGSwC4hB5RvxCm61HAAAAAMBSIBEAAAAACohEAAAAACggEgEAAACggEgEAAAAgAIyqwbduXPH7QIAAAAoApYPxRfHEmaYFTGDRUAcIs+IX2gMDQIAAAAKiEQAAAAAKCASAQAAAKCASAQAAACAAkpMBPrPVmTlXleu3P5YX/ZX1DG17b93DyUw/36lLt0L94Dvoit1/9+7/ZVnffdAWPp7wTK7elXPcN1tPE6KRRTJuHzyt/qrSBS93w8dJ35wvYhD5Ju5/45iM7kuFz6H+M2zGXoErqR7b0taUpPO+VB2Nt3DqXrSfDxDBX53i0DCjCqyM8wSiyiEi4GcufJJr4QRbMf3S+4ERVe+Kmfjc/ptaVVSGi2AeRCHyDFdwV9tyDg2z+tyvB6JTRW/oXNM/JIM5FXGREAnAavSPNKF27E01tzD0xw15VG0FWSCVmVfkvsFAGAKVQHryYaUU8snVY49b4nsPRmXYZs7crrXk+ZLSh5cE+IQudWXw0ZPat0X49hca8iLrngNu2nxq+pw3xG/eZQhEZgzCdjuSEcFRq9xmKly3+52pCYtOZghcUCB6Ba0e13pmmFnajPDhqJDg3Ssjrsq6a4slqvBmbo5VaXi9uMGMjhSZc3d8BmVu22R3RMaIXAtiEPkluvNqn/t9V4ppfKGyJGKW7eP5TI1Eeg/myMJcKpPT6WtKvdbKeP/Q8o666ypxOER3aNIdtSUppzarsjXDQkXVS5hveWO091eMFdy8qZnhhj6iWBoXLa7ySW31J7JgDjBJyMOsayC2CxJ47FOWg/G99b3+7K1G09ukQ8TE4GTZyvm4sp2XaozJgFWRR6qyn3W8f+l+09U4jDj3AIUiEpIH6QVNLaVrfZV2e0rmzsqIZg9gUUe2euveyIvg0TwvCPSWI1P0gRuDHGIHFsry4aqgx2/C8eq6eXy6XurmTvgkl0334X5evmUngjo1tddVfHqd6Smfl7N0qqfoHT/hXS2s47/r8hOX2WaM84tQFFMGndbkaoZirbKKlOFZCeOh3qKzNhW3cuYbXgi8OmIQ+RZcB/1RmZcdOVRo+d2LLOa4/pAnoySXZsUkOzm04QeATccaNMWYvOv6lOSxnM7/j/TECE36YQhQphV5elQLnWs6sQ16JafM4HFcjBjWxlugS+MOERe6PuombgetPY/FnmhG2gDKjE40MOA+jsqbXBIdnMtPRHwhgONW/XD463t3wvwtrRKlwuS0JiyCSpmbgErKGB2pfvHtoVCbSYpUAksrRQwXLd3cmVsUm8TcI2IQyw4nQwE91HduyVmaJAfm/E5LiS7+TV1srBVksZrVzn3xu+HgkVvT9MnithkQv37SlM9yzRuiJCqxJk5CsAcdFJgepc+stbB0ov+oULHjG0dNWqUpawbNCJL3PW/00vhTVrlBciIOESu2ZX4wo1nbgJ8KDZJZJdJxkRAG4/fn2++QDBEKCM3RAjIJqEAC7owWclg+a015IkqL0JzkcwfvelJ+3EwXjtY7cIb5mhWu5g0CR2YAXGIXAvmCIyH+Fy9emRXjgxiMynGdQJcaUmt+5BENodmSAQUVTkPhlvMNfbaBVBWlQczJA4oOD1J71Q29GRhPUxNb+tNke4lKxkUhB3b2pKt4PqrG1O7H1nJQq92YZaV9c9hZSlcH+IQeRaN39XGhpxGVt/T51x2z8Yx7u61ob+ejdxYefv27fD27dtuF/j8dEGih5YBWREzWATEIfKM+IU2W48AAAAAgKVAIgAAAAAUEIkAAAAAUEAkAgAAAEDhiPz/s66XddEqG5YAAAAASUVORK5CYII=)"
      ],
      "metadata": {
        "id": "Wu3TnAQHVh4q"
      }
    }
  ],
  "metadata": {
    "kernelspec": {
      "display_name": "Python 3",
      "language": "python",
      "name": "python3"
    },
    "language_info": {
      "codemirror_mode": {
        "name": "ipython",
        "version": 3
      },
      "file_extension": ".py",
      "mimetype": "text/x-python",
      "name": "python",
      "nbconvert_exporter": "python",
      "pygments_lexer": "ipython3",
      "version": "3.7.7"
    },
    "colab": {
      "name": "Knearest_VillagranSaucedoGabriel.ipynb",
      "provenance": [],
      "collapsed_sections": [],
      "include_colab_link": true
    }
  },
  "nbformat": 4,
  "nbformat_minor": 0
}